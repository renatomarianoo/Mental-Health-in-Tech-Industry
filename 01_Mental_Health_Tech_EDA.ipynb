{
 "cells": [
  {
   "cell_type": "markdown",
   "id": "4a6087dd",
   "metadata": {},
   "source": [
    "<p style=\"background:#55185D; color:#F9D778; font-size: 2.1em; text-align:center\"> \n",
    "    <br><br><b> Analysis of the Mental Health<br>\n",
    "    <br>in the Tech Industry</b> <br><br>\n",
    "    - Exploratory Data Analysis -<br><br>\n",
    "</p>"
   ]
  },
  {
   "cell_type": "markdown",
   "id": "293caa40",
   "metadata": {},
   "source": [
    "<p style=\"text-align: right;\">Module 2: Data Analysis<br>\n",
    "Sprint 1: Introduction to SQL & Statistics Fundamentals<br>\n",
    "Author : Renato Mariano</p>"
   ]
  },
  {
   "cell_type": "markdown",
   "id": "044e0123",
   "metadata": {},
   "source": [
    "<h1 style=\"color:#55185D\">Introduction </h1>"
   ]
  },
  {
   "cell_type": "markdown",
   "id": "79091030",
   "metadata": {},
   "source": [
    "This project is based on a dataset from Kagle of Mental Health in the Tech Industry. The scraped data is available on https://www.kaggle.com/datasets/anth7310/mental-health-in-the-tech-industry. <br>\n",
    "\n",
    "The data consists in surveys carried out in the years of 2014, 2016, 2017, 2018, 2019 on the Tech Workplace.\n",
    "\n",
    "The scope of this project includes:\n",
    "- Perform queries on the data using SQL.\n",
    "- Perform Exploratory Data Analysis (EDA).\n",
    "- Apply statistical inference procedures.\n",
    "- Create Dashbord and Graphs to visualize and present the data."
   ]
  },
  {
   "cell_type": "markdown",
   "id": "d2ddf75d",
   "metadata": {},
   "source": [
    "<h2 style=\"color:#55185D\">Questions </h2>"
   ]
  },
  {
   "cell_type": "markdown",
   "id": "c5a521e1",
   "metadata": {},
   "source": [
    "**The following questions based this analysis:**\n",
    "1. What was the structure and application location of the survey?\n",
    "2. Evaluating participant characteristics: age, gender, and race.\n",
    "3. What percentage of participants currently or previously experienced mental health disorders?\n",
    "4. Are there significant variations in mental health among participants based on their characteristics (age, gender, race)?\n",
    "5. How does employment status, such as remote work and self-employment, impact mental health?\n",
    "6. Does participants' willingness to discuss their mental health positively affect their well-being?\n",
    "7. What is the overall sentiment of the participants towards the survey?\n"
   ]
  },
  {
   "cell_type": "markdown",
   "id": "a06aadcc",
   "metadata": {},
   "source": [
    "<h2 style=\"color:#55185D\">Data processing </h2>"
   ]
  },
  {
   "cell_type": "markdown",
   "id": "ad033fb6",
   "metadata": {},
   "source": [
    "The analysis in this notebook were performed **question-wise**.\n",
    "\n",
    "The following steps were carried out depending on the value/quality of the answers:\n",
    "- Handling missing values.\n",
    "- Removing duplicates.\n",
    "- Treating/Acknoledging the outliers. \n",
    "- Analysis/conversion of data types. <br><br>"
   ]
  },
  {
   "cell_type": "markdown",
   "id": "34b1fa49",
   "metadata": {},
   "source": [
    "<h1 style=\"color:#55185D\">Library Imports and Notebook Setup</h1>"
   ]
  },
  {
   "cell_type": "code",
   "execution_count": 1,
   "id": "e4cc9f39",
   "metadata": {},
   "outputs": [],
   "source": [
    "import sqlite3\n",
    "import pandas as pd\n",
    "import numpy as np\n",
    "import matplotlib.pyplot as plt\n",
    "import seaborn as sns\n",
    "\n",
    "from fuzzywuzzy import process\n",
    "\n",
    "import nltk\n",
    "from nltk.sentiment import SentimentIntensityAnalyzer"
   ]
  },
  {
   "cell_type": "code",
   "execution_count": 2,
   "id": "c42365a8",
   "metadata": {},
   "outputs": [
    {
     "data": {
      "text/html": [
       "\n",
       "<style>\n",
       ".output_png {\n",
       "    display: table-cell;\n",
       "    text-align: center;\n",
       "    vertical-align: middle;\n",
       "}\n",
       "</style>\n"
      ],
      "text/plain": [
       "<IPython.core.display.HTML object>"
      ]
     },
     "execution_count": 2,
     "metadata": {},
     "output_type": "execute_result"
    }
   ],
   "source": [
    "# Notebook setup\n",
    "import warnings\n",
    "warnings.filterwarnings('ignore')\n",
    "\n",
    "from IPython.core.display import HTML      # center plots in the notebook\n",
    "HTML(\"\"\"\n",
    "<style>\n",
    ".output_png {\n",
    "    display: table-cell;\n",
    "    text-align: center;\n",
    "    vertical-align: middle;\n",
    "}\n",
    "</style>\n",
    "\"\"\")"
   ]
  },
  {
   "cell_type": "code",
   "execution_count": 3,
   "id": "c614b9cf",
   "metadata": {},
   "outputs": [],
   "source": [
    "def clear_histplot(ax, plot_title=\"\", plot_xlabel=\"\", plot_ylabel=\"\", legend_visibility=False):\n",
    "\n",
    "    ax.set(xlabel=plot_xlabel, ylabel=plot_ylabel, title=plot_title)\n",
    "    ax.set_title(plot_title, color='#31004a', fontsize=14)\n",
    "    ax.tick_params(axis=\"both\", which=\"both\", length=0)  \n",
    "    \n",
    "    if not legend_visibility:\n",
    "        ax.legend([],frameon=legend_visibility)"
   ]
  },
  {
   "cell_type": "code",
   "execution_count": 4,
   "id": "34cdf4ca",
   "metadata": {},
   "outputs": [],
   "source": [
    "def clear_barplot(\n",
    "    ax,\n",
    "    percent,\n",
    "    vertical=True,\n",
    "    plot_title=\"\",\n",
    "    pad_top=13,\n",
    "    pad_bottom=2,\n",
    "    plot_xlabel=\"\",\n",
    "    plot_ylabel=\"\",\n",
    "    legend_visibility=False,\n",
    "):\n",
    "\n",
    "    ax.set(xlabel=plot_xlabel, ylabel=plot_ylabel)\n",
    "    ax.set_title(plot_title, color=\"#31004a\", fontsize=14)\n",
    "    ax.tick_params(\n",
    "        axis=\"both\",\n",
    "        which=\"both\",\n",
    "        length=0,\n",
    "    )  # colors='#55185D'\n",
    "\n",
    "    if not legend_visibility:\n",
    "        ax.legend([],frameon=legend_visibility)\n",
    "    \n",
    "    if vertical:\n",
    "        ax.set_yticklabels([])\n",
    "        sns.despine(left=True)\n",
    "    else:\n",
    "        ax.set_xticklabels([])\n",
    "        sns.despine(bottom=True)\n",
    "\n",
    "    # Plot on top of the bars\n",
    "    for c in ax.containers:\n",
    "        ax.bar_label(c, padding=pad_top, color=\"#55185D\", fontsize=10.5)\n",
    "    if percent != 0:\n",
    "        ax.bar_label(\n",
    "            ax.containers[0],\n",
    "            padding=pad_bottom,\n",
    "            labels=percent,\n",
    "            color=\"#55185D\",\n",
    "            fontsize=9,\n",
    "        )"
   ]
  },
  {
   "cell_type": "markdown",
   "id": "46ccc445",
   "metadata": {},
   "source": [
    "<h1 style=\"color:#55185D\">Data Loading and Basic Queries</h1>"
   ]
  },
  {
   "cell_type": "markdown",
   "id": "54ceda86",
   "metadata": {},
   "source": [
    "Here the 3 dataframes of the data set will be save in specific variables. The information about he tables will also be stored."
   ]
  },
  {
   "cell_type": "code",
   "execution_count": 5,
   "id": "c53683e3",
   "metadata": {},
   "outputs": [],
   "source": [
    "# Connect to the SQLite database\n",
    "con = sqlite3.connect(\"data/mental_health.sqlite\")\n",
    "\n",
    "# Basic queries\n",
    "table_query = \"SELECT * FROM sqlite_master WHERE type='table';\"\n",
    "survey_query = \"SELECT * FROM Survey;\"\n",
    "question_query = \"SELECT * FROM Question;\"\n",
    "answer_query = \"SELECT * FROM Answer;\"\n",
    "\n",
    "# Assigning variables\n",
    "table = pd.read_sql(table_query, con)\n",
    "survey = pd.read_sql(survey_query, con)\n",
    "question = pd.read_sql(question_query, con)\n",
    "answer = pd.read_sql(answer_query, con)"
   ]
  },
  {
   "cell_type": "code",
   "execution_count": 6,
   "id": "22cf8eae",
   "metadata": {},
   "outputs": [
    {
     "data": {
      "text/html": [
       "<div>\n",
       "<style scoped>\n",
       "    .dataframe tbody tr th:only-of-type {\n",
       "        vertical-align: middle;\n",
       "    }\n",
       "\n",
       "    .dataframe tbody tr th {\n",
       "        vertical-align: top;\n",
       "    }\n",
       "\n",
       "    .dataframe thead th {\n",
       "        text-align: right;\n",
       "    }\n",
       "</style>\n",
       "<table border=\"1\" class=\"dataframe\">\n",
       "  <thead>\n",
       "    <tr style=\"text-align: right;\">\n",
       "      <th></th>\n",
       "      <th>type</th>\n",
       "      <th>name</th>\n",
       "      <th>tbl_name</th>\n",
       "      <th>rootpage</th>\n",
       "      <th>sql</th>\n",
       "    </tr>\n",
       "  </thead>\n",
       "  <tbody>\n",
       "    <tr>\n",
       "      <th>0</th>\n",
       "      <td>table</td>\n",
       "      <td>Answer</td>\n",
       "      <td>Answer</td>\n",
       "      <td>2</td>\n",
       "      <td>CREATE TABLE \"Answer\" (\\n\\t\"AnswerText\" VARCHA...</td>\n",
       "    </tr>\n",
       "    <tr>\n",
       "      <th>1</th>\n",
       "      <td>table</td>\n",
       "      <td>Question</td>\n",
       "      <td>Question</td>\n",
       "      <td>1434</td>\n",
       "      <td>CREATE TABLE \"Question\" (\\n\\t\"questiontext\" VA...</td>\n",
       "    </tr>\n",
       "    <tr>\n",
       "      <th>2</th>\n",
       "      <td>table</td>\n",
       "      <td>Survey</td>\n",
       "      <td>Survey</td>\n",
       "      <td>1438</td>\n",
       "      <td>CREATE TABLE \"Survey\" (\\n\\t\"SurveyID\" INTEGER ...</td>\n",
       "    </tr>\n",
       "  </tbody>\n",
       "</table>\n",
       "</div>"
      ],
      "text/plain": [
       "    type      name  tbl_name  rootpage  \\\n",
       "0  table    Answer    Answer         2   \n",
       "1  table  Question  Question      1434   \n",
       "2  table    Survey    Survey      1438   \n",
       "\n",
       "                                                 sql  \n",
       "0  CREATE TABLE \"Answer\" (\\n\\t\"AnswerText\" VARCHA...  \n",
       "1  CREATE TABLE \"Question\" (\\n\\t\"questiontext\" VA...  \n",
       "2  CREATE TABLE \"Survey\" (\\n\\t\"SurveyID\" INTEGER ...  "
      ]
     },
     "execution_count": 6,
     "metadata": {},
     "output_type": "execute_result"
    }
   ],
   "source": [
    "table.head()"
   ]
  },
  {
   "cell_type": "code",
   "execution_count": 7,
   "id": "c326b540",
   "metadata": {},
   "outputs": [
    {
     "name": "stdout",
     "output_type": "stream",
     "text": [
      "CREATE TABLE \"Answer\" (\n",
      "\t\"AnswerText\" VARCHAR(10000) NULL,\n",
      "\t\"SurveyID\" INTEGER NULL,\n",
      "\t\"UserID\" INTEGER NULL,\n",
      "\t\"QuestionID\" INTEGER NULL\n",
      ")\n",
      "CREATE TABLE \"Question\" (\n",
      "\t\"questiontext\" VARCHAR(1000) NULL,\n",
      "\t\"questionid\" INTEGER NULL\n",
      ")\n",
      "CREATE TABLE \"Survey\" (\n",
      "\t\"SurveyID\" INTEGER NOT NULL,\n",
      "\t\"Description\" VARCHAR(255) NULL,\n",
      "\tPRIMARY KEY (\"SurveyID\")\n",
      ")\n"
     ]
    }
   ],
   "source": [
    "for row in table[\"sql\"]:\n",
    "    print(row)"
   ]
  },
  {
   "cell_type": "markdown",
   "id": "ea91510f",
   "metadata": {},
   "source": [
    "- The link between the tables Survey and Answer is made through SurveyID.\n",
    "- The tables Question and Answer are linked through QuestionID."
   ]
  },
  {
   "cell_type": "code",
   "execution_count": 8,
   "id": "0b6a690e",
   "metadata": {},
   "outputs": [
    {
     "data": {
      "text/html": [
       "<div>\n",
       "<style scoped>\n",
       "    .dataframe tbody tr th:only-of-type {\n",
       "        vertical-align: middle;\n",
       "    }\n",
       "\n",
       "    .dataframe tbody tr th {\n",
       "        vertical-align: top;\n",
       "    }\n",
       "\n",
       "    .dataframe thead th {\n",
       "        text-align: right;\n",
       "    }\n",
       "</style>\n",
       "<table border=\"1\" class=\"dataframe\">\n",
       "  <thead>\n",
       "    <tr style=\"text-align: right;\">\n",
       "      <th></th>\n",
       "      <th>SurveyID</th>\n",
       "      <th>Description</th>\n",
       "    </tr>\n",
       "  </thead>\n",
       "  <tbody>\n",
       "    <tr>\n",
       "      <th>0</th>\n",
       "      <td>2014</td>\n",
       "      <td>mental health survey for 2014</td>\n",
       "    </tr>\n",
       "    <tr>\n",
       "      <th>1</th>\n",
       "      <td>2016</td>\n",
       "      <td>mental health survey for 2016</td>\n",
       "    </tr>\n",
       "    <tr>\n",
       "      <th>2</th>\n",
       "      <td>2017</td>\n",
       "      <td>mental health survey for 2017</td>\n",
       "    </tr>\n",
       "    <tr>\n",
       "      <th>3</th>\n",
       "      <td>2018</td>\n",
       "      <td>mental health survey for 2018</td>\n",
       "    </tr>\n",
       "    <tr>\n",
       "      <th>4</th>\n",
       "      <td>2019</td>\n",
       "      <td>mental health survey for 2019</td>\n",
       "    </tr>\n",
       "  </tbody>\n",
       "</table>\n",
       "</div>"
      ],
      "text/plain": [
       "   SurveyID                    Description\n",
       "0      2014  mental health survey for 2014\n",
       "1      2016  mental health survey for 2016\n",
       "2      2017  mental health survey for 2017\n",
       "3      2018  mental health survey for 2018\n",
       "4      2019  mental health survey for 2019"
      ]
     },
     "execution_count": 8,
     "metadata": {},
     "output_type": "execute_result"
    }
   ],
   "source": [
    "survey.head()"
   ]
  },
  {
   "cell_type": "code",
   "execution_count": 9,
   "id": "cdf9f127",
   "metadata": {},
   "outputs": [
    {
     "data": {
      "text/html": [
       "<div>\n",
       "<style scoped>\n",
       "    .dataframe tbody tr th:only-of-type {\n",
       "        vertical-align: middle;\n",
       "    }\n",
       "\n",
       "    .dataframe tbody tr th {\n",
       "        vertical-align: top;\n",
       "    }\n",
       "\n",
       "    .dataframe thead th {\n",
       "        text-align: right;\n",
       "    }\n",
       "</style>\n",
       "<table border=\"1\" class=\"dataframe\">\n",
       "  <thead>\n",
       "    <tr style=\"text-align: right;\">\n",
       "      <th></th>\n",
       "      <th>questiontext</th>\n",
       "      <th>questionid</th>\n",
       "    </tr>\n",
       "  </thead>\n",
       "  <tbody>\n",
       "    <tr>\n",
       "      <th>0</th>\n",
       "      <td>What is your age?</td>\n",
       "      <td>1</td>\n",
       "    </tr>\n",
       "    <tr>\n",
       "      <th>1</th>\n",
       "      <td>What is your gender?</td>\n",
       "      <td>2</td>\n",
       "    </tr>\n",
       "    <tr>\n",
       "      <th>2</th>\n",
       "      <td>What country do you live in?</td>\n",
       "      <td>3</td>\n",
       "    </tr>\n",
       "    <tr>\n",
       "      <th>3</th>\n",
       "      <td>If you live in the United States, which state ...</td>\n",
       "      <td>4</td>\n",
       "    </tr>\n",
       "    <tr>\n",
       "      <th>4</th>\n",
       "      <td>Are you self-employed?</td>\n",
       "      <td>5</td>\n",
       "    </tr>\n",
       "  </tbody>\n",
       "</table>\n",
       "</div>"
      ],
      "text/plain": [
       "                                        questiontext  questionid\n",
       "0                                  What is your age?           1\n",
       "1                               What is your gender?           2\n",
       "2                       What country do you live in?           3\n",
       "3  If you live in the United States, which state ...           4\n",
       "4                             Are you self-employed?           5"
      ]
     },
     "execution_count": 9,
     "metadata": {},
     "output_type": "execute_result"
    }
   ],
   "source": [
    "question.head()"
   ]
  },
  {
   "cell_type": "code",
   "execution_count": 10,
   "id": "c76668d4",
   "metadata": {},
   "outputs": [
    {
     "data": {
      "text/html": [
       "<div>\n",
       "<style scoped>\n",
       "    .dataframe tbody tr th:only-of-type {\n",
       "        vertical-align: middle;\n",
       "    }\n",
       "\n",
       "    .dataframe tbody tr th {\n",
       "        vertical-align: top;\n",
       "    }\n",
       "\n",
       "    .dataframe thead th {\n",
       "        text-align: right;\n",
       "    }\n",
       "</style>\n",
       "<table border=\"1\" class=\"dataframe\">\n",
       "  <thead>\n",
       "    <tr style=\"text-align: right;\">\n",
       "      <th></th>\n",
       "      <th>AnswerText</th>\n",
       "      <th>SurveyID</th>\n",
       "      <th>UserID</th>\n",
       "      <th>QuestionID</th>\n",
       "    </tr>\n",
       "  </thead>\n",
       "  <tbody>\n",
       "    <tr>\n",
       "      <th>0</th>\n",
       "      <td>37</td>\n",
       "      <td>2014</td>\n",
       "      <td>1</td>\n",
       "      <td>1</td>\n",
       "    </tr>\n",
       "    <tr>\n",
       "      <th>1</th>\n",
       "      <td>44</td>\n",
       "      <td>2014</td>\n",
       "      <td>2</td>\n",
       "      <td>1</td>\n",
       "    </tr>\n",
       "    <tr>\n",
       "      <th>2</th>\n",
       "      <td>32</td>\n",
       "      <td>2014</td>\n",
       "      <td>3</td>\n",
       "      <td>1</td>\n",
       "    </tr>\n",
       "    <tr>\n",
       "      <th>3</th>\n",
       "      <td>31</td>\n",
       "      <td>2014</td>\n",
       "      <td>4</td>\n",
       "      <td>1</td>\n",
       "    </tr>\n",
       "    <tr>\n",
       "      <th>4</th>\n",
       "      <td>31</td>\n",
       "      <td>2014</td>\n",
       "      <td>5</td>\n",
       "      <td>1</td>\n",
       "    </tr>\n",
       "  </tbody>\n",
       "</table>\n",
       "</div>"
      ],
      "text/plain": [
       "  AnswerText  SurveyID  UserID  QuestionID\n",
       "0         37      2014       1           1\n",
       "1         44      2014       2           1\n",
       "2         32      2014       3           1\n",
       "3         31      2014       4           1\n",
       "4         31      2014       5           1"
      ]
     },
     "execution_count": 10,
     "metadata": {},
     "output_type": "execute_result"
    }
   ],
   "source": [
    "answer.head()"
   ]
  },
  {
   "cell_type": "markdown",
   "id": "8a98ee40",
   "metadata": {},
   "source": [
    "<h1 style=\"color:#55185D\">Exploratory Data Analysis </h1>"
   ]
  },
  {
   "cell_type": "markdown",
   "id": "196fe130",
   "metadata": {},
   "source": [
    "<h2 style=\"color:#55185D\">Survey Analysis</h2>"
   ]
  },
  {
   "cell_type": "markdown",
   "id": "2bb04eae",
   "metadata": {},
   "source": [
    "How did the number of questions and participants change by year?"
   ]
  },
  {
   "cell_type": "code",
   "execution_count": 11,
   "id": "987401f7",
   "metadata": {},
   "outputs": [],
   "source": [
    "num_survey_query = \"\"\"SELECT DISTINCT SurveyID as Year, \n",
    "                             COUNT(DISTINCT UserID) as participants, \n",
    "                             COUNT(UserID) as answers\n",
    "                      FROM Answer\n",
    "                      GROUP BY Year\"\"\"\n",
    "num_survey = pd.read_sql(num_survey_query, con=con)\n",
    "\n",
    "num_question_query = \"\"\"SELECT DISTINCT SurveyID as Year, \n",
    "                               COUNT(DISTINCT QuestionID) AS questions,\n",
    "                               GROUP_CONCAT(DISTINCT QuestionID) AS UniqueQuestionIDs\n",
    "                        FROM Answer\n",
    "                        GROUP BY Year\"\"\"\n",
    "num_questions = pd.read_sql(num_question_query, con=con)"
   ]
  },
  {
   "cell_type": "code",
   "execution_count": 12,
   "id": "61aa94d8",
   "metadata": {},
   "outputs": [
    {
     "data": {
      "text/html": [
       "<div>\n",
       "<style scoped>\n",
       "    .dataframe tbody tr th:only-of-type {\n",
       "        vertical-align: middle;\n",
       "    }\n",
       "\n",
       "    .dataframe tbody tr th {\n",
       "        vertical-align: top;\n",
       "    }\n",
       "\n",
       "    .dataframe thead th {\n",
       "        text-align: right;\n",
       "    }\n",
       "</style>\n",
       "<table border=\"1\" class=\"dataframe\">\n",
       "  <thead>\n",
       "    <tr style=\"text-align: right;\">\n",
       "      <th></th>\n",
       "      <th>Year</th>\n",
       "      <th>questions</th>\n",
       "      <th>UniqueQuestionIDs</th>\n",
       "    </tr>\n",
       "  </thead>\n",
       "  <tbody>\n",
       "    <tr>\n",
       "      <th>0</th>\n",
       "      <td>2014</td>\n",
       "      <td>26</td>\n",
       "      <td>1,2,3,4,5,6,7,8,9,10,11,12,90,91,92,93,94,95,9...</td>\n",
       "    </tr>\n",
       "    <tr>\n",
       "      <th>1</th>\n",
       "      <td>2016</td>\n",
       "      <td>60</td>\n",
       "      <td>1,2,3,4,5,6,7,8,9,10,11,12,13,14,15,16,17,18,1...</td>\n",
       "    </tr>\n",
       "    <tr>\n",
       "      <th>2</th>\n",
       "      <td>2017</td>\n",
       "      <td>76</td>\n",
       "      <td>1,2,3,4,5,6,7,8,9,10,11,12,13,14,15,16,17,18,1...</td>\n",
       "    </tr>\n",
       "    <tr>\n",
       "      <th>3</th>\n",
       "      <td>2018</td>\n",
       "      <td>76</td>\n",
       "      <td>1,2,3,4,5,6,7,8,9,10,11,12,13,14,15,16,17,18,1...</td>\n",
       "    </tr>\n",
       "    <tr>\n",
       "      <th>4</th>\n",
       "      <td>2019</td>\n",
       "      <td>76</td>\n",
       "      <td>1,2,3,4,5,6,7,8,9,10,11,12,13,14,15,16,17,18,1...</td>\n",
       "    </tr>\n",
       "  </tbody>\n",
       "</table>\n",
       "</div>"
      ],
      "text/plain": [
       "   Year  questions                                  UniqueQuestionIDs\n",
       "0  2014         26  1,2,3,4,5,6,7,8,9,10,11,12,90,91,92,93,94,95,9...\n",
       "1  2016         60  1,2,3,4,5,6,7,8,9,10,11,12,13,14,15,16,17,18,1...\n",
       "2  2017         76  1,2,3,4,5,6,7,8,9,10,11,12,13,14,15,16,17,18,1...\n",
       "3  2018         76  1,2,3,4,5,6,7,8,9,10,11,12,13,14,15,16,17,18,1...\n",
       "4  2019         76  1,2,3,4,5,6,7,8,9,10,11,12,13,14,15,16,17,18,1..."
      ]
     },
     "execution_count": 12,
     "metadata": {},
     "output_type": "execute_result"
    }
   ],
   "source": [
    "num_questions"
   ]
  },
  {
   "cell_type": "code",
   "execution_count": 13,
   "id": "1d46e6d4",
   "metadata": {},
   "outputs": [
    {
     "data": {
      "text/html": [
       "<div>\n",
       "<style scoped>\n",
       "    .dataframe tbody tr th:only-of-type {\n",
       "        vertical-align: middle;\n",
       "    }\n",
       "\n",
       "    .dataframe tbody tr th {\n",
       "        vertical-align: top;\n",
       "    }\n",
       "\n",
       "    .dataframe thead th {\n",
       "        text-align: right;\n",
       "    }\n",
       "</style>\n",
       "<table border=\"1\" class=\"dataframe\">\n",
       "  <thead>\n",
       "    <tr style=\"text-align: right;\">\n",
       "      <th></th>\n",
       "      <th>Year</th>\n",
       "      <th>participants</th>\n",
       "      <th>answers</th>\n",
       "    </tr>\n",
       "  </thead>\n",
       "  <tbody>\n",
       "    <tr>\n",
       "      <th>0</th>\n",
       "      <td>2014</td>\n",
       "      <td>1260</td>\n",
       "      <td>32760</td>\n",
       "    </tr>\n",
       "    <tr>\n",
       "      <th>1</th>\n",
       "      <td>2016</td>\n",
       "      <td>1433</td>\n",
       "      <td>88238</td>\n",
       "    </tr>\n",
       "    <tr>\n",
       "      <th>2</th>\n",
       "      <td>2017</td>\n",
       "      <td>756</td>\n",
       "      <td>57456</td>\n",
       "    </tr>\n",
       "    <tr>\n",
       "      <th>3</th>\n",
       "      <td>2018</td>\n",
       "      <td>417</td>\n",
       "      <td>31692</td>\n",
       "    </tr>\n",
       "    <tr>\n",
       "      <th>4</th>\n",
       "      <td>2019</td>\n",
       "      <td>352</td>\n",
       "      <td>26752</td>\n",
       "    </tr>\n",
       "  </tbody>\n",
       "</table>\n",
       "</div>"
      ],
      "text/plain": [
       "   Year  participants  answers\n",
       "0  2014          1260    32760\n",
       "1  2016          1433    88238\n",
       "2  2017           756    57456\n",
       "3  2018           417    31692\n",
       "4  2019           352    26752"
      ]
     },
     "execution_count": 13,
     "metadata": {},
     "output_type": "execute_result"
    }
   ],
   "source": [
    "num_survey"
   ]
  },
  {
   "cell_type": "code",
   "execution_count": 14,
   "id": "cda8ff1e",
   "metadata": {},
   "outputs": [
    {
     "data": {
      "image/png": "[encoded data removed]",
      "text/plain": [
       "<Figure size 600x600 with 2 Axes>"
      ]
     },
     "metadata": {},
     "output_type": "display_data"
    }
   ],
   "source": [
    "fig, (ax1, ax2) = plt.subplots(2, 1, figsize=(6, 6))\n",
    "\n",
    "sns.barplot(\n",
    "    x=num_survey[\"Year\"],\n",
    "    y=num_survey[\"participants\"],\n",
    "    color=\"lightgrey\",\n",
    "    fill=False,\n",
    "    edgecolor=\"grey\",\n",
    "    ax=ax1,\n",
    ")\n",
    "sns.barplot(\n",
    "    x=num_questions[\"Year\"],\n",
    "    y=num_questions[\"questions\"],\n",
    "    color=\"lightgrey\",\n",
    "    fill=False,\n",
    "    edgecolor=\"grey\",\n",
    "    ax=ax2,\n",
    ")\n",
    "\n",
    "plt.subplots_adjust(left=0.1, bottom=0.1, right=0.9, top=0.9, wspace=0.2, hspace=0.4)\n",
    "\n",
    "clear_barplot(ax1, percent=0, pad_top=-12)\n",
    "clear_barplot(ax2, percent=0, pad_top=-12)\n",
    "\n",
    "ax1.set_title(\"Number of Participants\", color=\"#31004a\", fontsize=14)\n",
    "ax2.set_title(\"Number of Questions\", color=\"#31004a\", fontsize=14);"
   ]
  },
  {
   "cell_type": "markdown",
   "id": "26700ac3",
   "metadata": {},
   "source": [
    "- The survey had on the **first year only 26 questions**, not even the question 'Do you currently have a mental health disorder?' was presented.\n",
    "- The survey was then improved, some questions were removed and new added.\n",
    "- As to be seen in the cell bellow from the \"question\" table, **105 questions in total were presented** throughout the years.\n",
    "\n",
    "\n",
    "- The **maximum number of participants was seen in 2016**.\n",
    "- The number of participants decreased throughout the years.\n"
   ]
  },
  {
   "cell_type": "code",
   "execution_count": 15,
   "id": "2e022137",
   "metadata": {},
   "outputs": [
    {
     "data": {
      "text/plain": [
       "questiontext    105\n",
       "questionid      105\n",
       "dtype: int64"
      ]
     },
     "execution_count": 15,
     "metadata": {},
     "output_type": "execute_result"
    }
   ],
   "source": [
    "question.count()"
   ]
  },
  {
   "cell_type": "markdown",
   "id": "21db9799",
   "metadata": {},
   "source": [
    "Another question that comes is **in which countries these surveys were applied**?"
   ]
  },
  {
   "cell_type": "code",
   "execution_count": 16,
   "id": "0c2d926f",
   "metadata": {},
   "outputs": [
    {
     "data": {
      "text/html": [
       "<div>\n",
       "<style scoped>\n",
       "    .dataframe tbody tr th:only-of-type {\n",
       "        vertical-align: middle;\n",
       "    }\n",
       "\n",
       "    .dataframe tbody tr th {\n",
       "        vertical-align: top;\n",
       "    }\n",
       "\n",
       "    .dataframe thead th {\n",
       "        text-align: right;\n",
       "    }\n",
       "</style>\n",
       "<table border=\"1\" class=\"dataframe\">\n",
       "  <thead>\n",
       "    <tr style=\"text-align: right;\">\n",
       "      <th></th>\n",
       "      <th>Country</th>\n",
       "      <th>Frequency</th>\n",
       "    </tr>\n",
       "  </thead>\n",
       "  <tbody>\n",
       "    <tr>\n",
       "      <th>74</th>\n",
       "      <td>United Kingdom</td>\n",
       "      <td>482</td>\n",
       "    </tr>\n",
       "    <tr>\n",
       "      <th>75</th>\n",
       "      <td>United States</td>\n",
       "      <td>751</td>\n",
       "    </tr>\n",
       "    <tr>\n",
       "      <th>76</th>\n",
       "      <td>United States of America</td>\n",
       "      <td>1853</td>\n",
       "    </tr>\n",
       "    <tr>\n",
       "      <th>77</th>\n",
       "      <td>Uruguay</td>\n",
       "      <td>2</td>\n",
       "    </tr>\n",
       "    <tr>\n",
       "      <th>78</th>\n",
       "      <td>Venezuela</td>\n",
       "      <td>1</td>\n",
       "    </tr>\n",
       "    <tr>\n",
       "      <th>79</th>\n",
       "      <td>Vietnam</td>\n",
       "      <td>1</td>\n",
       "    </tr>\n",
       "    <tr>\n",
       "      <th>80</th>\n",
       "      <td>Zimbabwe</td>\n",
       "      <td>1</td>\n",
       "    </tr>\n",
       "  </tbody>\n",
       "</table>\n",
       "</div>"
      ],
      "text/plain": [
       "                     Country  Frequency\n",
       "74            United Kingdom        482\n",
       "75             United States        751\n",
       "76  United States of America       1853\n",
       "77                   Uruguay          2\n",
       "78                 Venezuela          1\n",
       "79                   Vietnam          1\n",
       "80                  Zimbabwe          1"
      ]
     },
     "execution_count": 16,
     "metadata": {},
     "output_type": "execute_result"
    }
   ],
   "source": [
    "query = '''SELECT AnswerText AS Country,\n",
    "                  COUNT(AnswerText) AS Frequency\n",
    "            FROM Answer\n",
    "            WHERE Answer.QuestionID = 3\n",
    "            GROUP BY Country'''\n",
    "country = pd.read_sql(query, con)\n",
    "country.tail(7)"
   ]
  },
  {
   "cell_type": "markdown",
   "id": "6c28c93c",
   "metadata": {},
   "source": [
    "The data seems to be consistent!!\n",
    "\n",
    "USA however is divided in 2 rows."
   ]
  },
  {
   "cell_type": "code",
   "execution_count": 17,
   "id": "c80e86a6",
   "metadata": {},
   "outputs": [],
   "source": [
    "# Combine the values of USA\n",
    "combined_row = pd.DataFrame(\n",
    "    {\n",
    "        \"Country\": \"United States of America\",\n",
    "        \"Frequency\": country.loc[country[\"Country\"] == \"United States\"][\n",
    "            \"Frequency\"\n",
    "        ].values\n",
    "        + country.loc[country[\"Country\"] == \"United States of America\"][\n",
    "            \"Frequency\"\n",
    "        ].values,\n",
    "    }\n",
    ")\n",
    "# Remove the original rows\n",
    "country = country.drop(\n",
    "    country[\n",
    "        (country[\"Country\"] == \"United States\")\n",
    "        | (country[\"Country\"] == \"United States of America\")\n",
    "    ].index\n",
    ")\n",
    "\n",
    "# Append the combined row and order values\n",
    "country = country.append(combined_row, ignore_index=True)\n",
    "country = country.sort_values(by=\"Frequency\", ascending=False)"
   ]
  },
  {
   "cell_type": "code",
   "execution_count": 18,
   "id": "32d2ee1f",
   "metadata": {},
   "outputs": [
    {
     "data": {
      "image/png": "[encoded data removed]",
      "text/plain": [
       "<Figure size 800x500 with 1 Axes>"
      ]
     },
     "metadata": {},
     "output_type": "display_data"
    }
   ],
   "source": [
    "fig, ax1 = plt.subplots(figsize=(8, 5))\n",
    "\n",
    "sns.barplot(\n",
    "    y=\"Country\",\n",
    "    x=\"Frequency\",\n",
    "    data=country.iloc[:10],\n",
    "    color=\"#F9D778\",\n",
    "    ax=ax1,\n",
    ")\n",
    "\n",
    "clear_barplot(\n",
    "    ax1,\n",
    "    percent=0,\n",
    "    vertical=False,\n",
    "    plot_title=\"Top 10 Countries in Number of Participants\",\n",
    "    pad_top=2,\n",
    "    pad_bottom=30,\n",
    ")"
   ]
  },
  {
   "cell_type": "markdown",
   "id": "b398b8d4",
   "metadata": {},
   "source": [
    "From the above graph, one can take that the survey was carried out mostly in English speaking countries. United States, United Kingdom, Canada are presented in the top.\n",
    "\n",
    "These countries are followed by Gemany and Netherlands."
   ]
  },
  {
   "cell_type": "code",
   "execution_count": 19,
   "id": "5364b3ee",
   "metadata": {
    "scrolled": true
   },
   "outputs": [
    {
     "name": "stdout",
     "output_type": "stream",
     "text": [
      "The English speaking countries amount to 81% of the respondents.\n",
      "\n",
      "The USA leads the number of participants with 62%.\n"
     ]
    }
   ],
   "source": [
    "english_speaking = country[\n",
    "    country[\"Country\"].str.contains(\n",
    "        \"United States|United Kingdom|Canada|Australia|Ireland\"\n",
    "    )\n",
    "]\n",
    "print(\n",
    "    f'The English speaking countries amount to {round(100 * sum(english_speaking[\"Frequency\"]) / sum(country[\"Frequency\"]))}% of the respondents.\\n'\n",
    ")\n",
    "print(\n",
    "    f'The USA leads the number of participants with {round(100 * english_speaking[\"Frequency\"].iloc[0] / sum(country[\"Frequency\"]))}%.'\n",
    ")"
   ]
  },
  {
   "cell_type": "markdown",
   "id": "6608491d",
   "metadata": {},
   "source": [
    "<h2 style=\"color:#55185D\">Analysis on Mental Health Disorder</h2>"
   ]
  },
  {
   "cell_type": "markdown",
   "id": "f5757508",
   "metadata": {},
   "source": [
    "After having an overview of the survey, its participants and where it was applied, we can now dive deeper into the answers for the Mental Health Disorder.\n",
    "\n",
    "**3 questions** provided a clear information about the **participants' mental health state** (Q32, Q33, Q34)."
   ]
  },
  {
   "cell_type": "code",
   "execution_count": 20,
   "id": "55e92535",
   "metadata": {},
   "outputs": [
    {
     "name": "stdout",
     "output_type": "stream",
     "text": [
      "32 Have you had a mental health disorder in the past?\n",
      "33 Do you currently have a mental health disorder?\n",
      "34 Have you ever been diagnosed with a mental health disorder?\n"
     ]
    }
   ],
   "source": [
    "for index, row in question.iterrows():\n",
    "    if index+1 in [32,33,34]:\n",
    "        print(row['questionid'], row['questiontext'])"
   ]
  },
  {
   "cell_type": "markdown",
   "id": "c56cfb98",
   "metadata": {},
   "source": [
    "By using the table \"num_questions\" defined before, we see that **these 3 questions only started to be presented from the second year of survey**."
   ]
  },
  {
   "cell_type": "code",
   "execution_count": 21,
   "id": "09c32abe",
   "metadata": {},
   "outputs": [
    {
     "name": "stdout",
     "output_type": "stream",
     "text": [
      "False\n",
      "True\n",
      "True\n",
      "True\n",
      "True\n"
     ]
    }
   ],
   "source": [
    "for i, col in enumerate(num_questions['UniqueQuestionIDs']):\n",
    "    print('32,33,34' in num_questions['UniqueQuestionIDs'][i])"
   ]
  },
  {
   "cell_type": "markdown",
   "id": "50bea5e8",
   "metadata": {},
   "source": [
    "Besides, some other questions are also important for the analysis and will be imported to a single dataframe."
   ]
  },
  {
   "cell_type": "code",
   "execution_count": 22,
   "id": "27927279",
   "metadata": {},
   "outputs": [],
   "source": [
    "question_mapping = {\n",
    "    'Age': 1,\n",
    "    'Gender': 2,\n",
    "    'Race':89,\n",
    "    'Self-employment':5,\n",
    "    'Work Position':117,\n",
    "    'Remote Work':118,\n",
    "    'MHD Current': 33,\n",
    "    'MHD Past':32,\n",
    "    'MHD Diagnosed':34,\n",
    "    'Talk Coworkers':18,\n",
    "    'Talk Supervisor':19,\n",
    "    'Talk Family':30,\n",
    "}"
   ]
  },
  {
   "cell_type": "code",
   "execution_count": 23,
   "id": "fbe2b754",
   "metadata": {},
   "outputs": [
    {
     "name": "stdout",
     "output_type": "stream",
     "text": [
      "1 What is your age?\n",
      "2 What is your gender?\n",
      "5 Are you self-employed?\n",
      "18 Would you feel comfortable discussing a mental health issue with your coworkers?\n",
      "19 Would you feel comfortable discussing a mental health issue with your direct supervisor(s)?\n",
      "30 How willing would you be to share with friends and family that you have a mental illness?\n",
      "32 Have you had a mental health disorder in the past?\n",
      "33 Do you currently have a mental health disorder?\n",
      "34 Have you ever been diagnosed with a mental health disorder?\n",
      "89 What is your race?\n",
      "117 Which of the following best describes your work position?\n",
      "118 Do you work remotely?\n"
     ]
    }
   ],
   "source": [
    "question_ids = list(question_mapping.values())\n",
    "filtered_questions = question[question['questionid'].isin(question_ids)]\n",
    "\n",
    "for index, row in filtered_questions.iterrows():\n",
    "    print(row['questionid'], row['questiontext'])"
   ]
  },
  {
   "cell_type": "code",
   "execution_count": 24,
   "id": "ee88a7d0",
   "metadata": {},
   "outputs": [
    {
     "data": {
      "text/html": [
       "<div>\n",
       "<style scoped>\n",
       "    .dataframe tbody tr th:only-of-type {\n",
       "        vertical-align: middle;\n",
       "    }\n",
       "\n",
       "    .dataframe tbody tr th {\n",
       "        vertical-align: top;\n",
       "    }\n",
       "\n",
       "    .dataframe thead th {\n",
       "        text-align: right;\n",
       "    }\n",
       "</style>\n",
       "<table border=\"1\" class=\"dataframe\">\n",
       "  <thead>\n",
       "    <tr style=\"text-align: right;\">\n",
       "      <th></th>\n",
       "      <th>UserID</th>\n",
       "      <th>Age</th>\n",
       "      <th>Gender</th>\n",
       "      <th>Race</th>\n",
       "      <th>Self-employment</th>\n",
       "      <th>Work Position</th>\n",
       "      <th>Remote Work</th>\n",
       "      <th>MHD Current</th>\n",
       "      <th>MHD Past</th>\n",
       "      <th>MHD Diagnosed</th>\n",
       "      <th>Talk Coworkers</th>\n",
       "      <th>Talk Supervisor</th>\n",
       "      <th>Talk Family</th>\n",
       "    </tr>\n",
       "  </thead>\n",
       "  <tbody>\n",
       "    <tr>\n",
       "      <th>0</th>\n",
       "      <td>1</td>\n",
       "      <td>37</td>\n",
       "      <td>Female</td>\n",
       "      <td>None</td>\n",
       "      <td>-1</td>\n",
       "      <td>None</td>\n",
       "      <td>None</td>\n",
       "      <td>None</td>\n",
       "      <td>None</td>\n",
       "      <td>None</td>\n",
       "      <td>None</td>\n",
       "      <td>None</td>\n",
       "      <td>None</td>\n",
       "    </tr>\n",
       "    <tr>\n",
       "      <th>1</th>\n",
       "      <td>2</td>\n",
       "      <td>44</td>\n",
       "      <td>Male</td>\n",
       "      <td>None</td>\n",
       "      <td>-1</td>\n",
       "      <td>None</td>\n",
       "      <td>None</td>\n",
       "      <td>None</td>\n",
       "      <td>None</td>\n",
       "      <td>None</td>\n",
       "      <td>None</td>\n",
       "      <td>None</td>\n",
       "      <td>None</td>\n",
       "    </tr>\n",
       "    <tr>\n",
       "      <th>2</th>\n",
       "      <td>3</td>\n",
       "      <td>32</td>\n",
       "      <td>Male</td>\n",
       "      <td>None</td>\n",
       "      <td>-1</td>\n",
       "      <td>None</td>\n",
       "      <td>None</td>\n",
       "      <td>None</td>\n",
       "      <td>None</td>\n",
       "      <td>None</td>\n",
       "      <td>None</td>\n",
       "      <td>None</td>\n",
       "      <td>None</td>\n",
       "    </tr>\n",
       "    <tr>\n",
       "      <th>3</th>\n",
       "      <td>4</td>\n",
       "      <td>31</td>\n",
       "      <td>Male</td>\n",
       "      <td>None</td>\n",
       "      <td>-1</td>\n",
       "      <td>None</td>\n",
       "      <td>None</td>\n",
       "      <td>None</td>\n",
       "      <td>None</td>\n",
       "      <td>None</td>\n",
       "      <td>None</td>\n",
       "      <td>None</td>\n",
       "      <td>None</td>\n",
       "    </tr>\n",
       "    <tr>\n",
       "      <th>4</th>\n",
       "      <td>5</td>\n",
       "      <td>31</td>\n",
       "      <td>Male</td>\n",
       "      <td>None</td>\n",
       "      <td>-1</td>\n",
       "      <td>None</td>\n",
       "      <td>None</td>\n",
       "      <td>None</td>\n",
       "      <td>None</td>\n",
       "      <td>None</td>\n",
       "      <td>None</td>\n",
       "      <td>None</td>\n",
       "      <td>None</td>\n",
       "    </tr>\n",
       "  </tbody>\n",
       "</table>\n",
       "</div>"
      ],
      "text/plain": [
       "   UserID Age  Gender  Race Self-employment Work Position Remote Work  \\\n",
       "0       1  37  Female  None              -1          None        None   \n",
       "1       2  44    Male  None              -1          None        None   \n",
       "2       3  32    Male  None              -1          None        None   \n",
       "3       4  31    Male  None              -1          None        None   \n",
       "4       5  31    Male  None              -1          None        None   \n",
       "\n",
       "  MHD Current MHD Past MHD Diagnosed Talk Coworkers Talk Supervisor  \\\n",
       "0        None     None          None           None            None   \n",
       "1        None     None          None           None            None   \n",
       "2        None     None          None           None            None   \n",
       "3        None     None          None           None            None   \n",
       "4        None     None          None           None            None   \n",
       "\n",
       "  Talk Family  \n",
       "0        None  \n",
       "1        None  \n",
       "2        None  \n",
       "3        None  \n",
       "4        None  "
      ]
     },
     "execution_count": 24,
     "metadata": {},
     "output_type": "execute_result"
    }
   ],
   "source": [
    "cols = \", \".join(\n",
    "    f'GROUP_CONCAT(CASE WHEN QuestionID = {qid} THEN AnswerText END) AS \"{col}\"'\n",
    "    for col, qid in question_mapping.items()\n",
    ")\n",
    "\n",
    "query = f\"\"\" SELECT UserID, {cols}\n",
    "            FROM Answer\n",
    "            GROUP BY UserID \"\"\"\n",
    "\n",
    "mental_health_df = pd.read_sql_query(query, con)\n",
    "mental_health_df.head()"
   ]
  },
  {
   "cell_type": "markdown",
   "id": "d550a9e1",
   "metadata": {},
   "source": [
    "All of the data is of object type (exc. UserID). Age should however be converted.\n",
    "\n",
    "Some **data cleaning is required**:\n",
    "- Age presents values higher than 100 years old.\n",
    "- It also presents negative values,\n",
    "- To some of the columns, the value -1 was attributed as Null.\n",
    "\n",
    "The description of the data bellow shows that:\n",
    "- The most common participants has an age of 30 years old, Male, white.\n",
    "- **Most of the participants declare to have suffered form Mental Health issues** in the past, or to have it currently."
   ]
  },
  {
   "cell_type": "code",
   "execution_count": 25,
   "id": "a3b310af",
   "metadata": {},
   "outputs": [
    {
     "data": {
      "text/html": [
       "<div>\n",
       "<style scoped>\n",
       "    .dataframe tbody tr th:only-of-type {\n",
       "        vertical-align: middle;\n",
       "    }\n",
       "\n",
       "    .dataframe tbody tr th {\n",
       "        vertical-align: top;\n",
       "    }\n",
       "\n",
       "    .dataframe thead th {\n",
       "        text-align: right;\n",
       "    }\n",
       "</style>\n",
       "<table border=\"1\" class=\"dataframe\">\n",
       "  <thead>\n",
       "    <tr style=\"text-align: right;\">\n",
       "      <th></th>\n",
       "      <th>Age</th>\n",
       "      <th>Gender</th>\n",
       "      <th>Race</th>\n",
       "      <th>Self-employment</th>\n",
       "      <th>Work Position</th>\n",
       "      <th>Remote Work</th>\n",
       "      <th>MHD Current</th>\n",
       "      <th>MHD Past</th>\n",
       "      <th>MHD Diagnosed</th>\n",
       "      <th>Talk Coworkers</th>\n",
       "      <th>Talk Supervisor</th>\n",
       "      <th>Talk Family</th>\n",
       "    </tr>\n",
       "  </thead>\n",
       "  <tbody>\n",
       "    <tr>\n",
       "      <th>count</th>\n",
       "      <td>4218</td>\n",
       "      <td>4218</td>\n",
       "      <td>1525</td>\n",
       "      <td>4218</td>\n",
       "      <td>1433</td>\n",
       "      <td>1433</td>\n",
       "      <td>2958</td>\n",
       "      <td>2958</td>\n",
       "      <td>2958</td>\n",
       "      <td>2958</td>\n",
       "      <td>2958</td>\n",
       "      <td>2958</td>\n",
       "    </tr>\n",
       "    <tr>\n",
       "      <th>unique</th>\n",
       "      <td>65</td>\n",
       "      <td>101</td>\n",
       "      <td>11</td>\n",
       "      <td>3</td>\n",
       "      <td>264</td>\n",
       "      <td>3</td>\n",
       "      <td>5</td>\n",
       "      <td>6</td>\n",
       "      <td>3</td>\n",
       "      <td>4</td>\n",
       "      <td>4</td>\n",
       "      <td>6</td>\n",
       "    </tr>\n",
       "    <tr>\n",
       "      <th>top</th>\n",
       "      <td>30</td>\n",
       "      <td>Male</td>\n",
       "      <td>White</td>\n",
       "      <td>0</td>\n",
       "      <td>Back-end Developer</td>\n",
       "      <td>Sometimes</td>\n",
       "      <td>Yes</td>\n",
       "      <td>Yes</td>\n",
       "      <td>Yes</td>\n",
       "      <td>Maybe</td>\n",
       "      <td>Yes</td>\n",
       "      <td>Very open</td>\n",
       "    </tr>\n",
       "    <tr>\n",
       "      <th>freq</th>\n",
       "      <td>250</td>\n",
       "      <td>2830</td>\n",
       "      <td>873</td>\n",
       "      <td>3550</td>\n",
       "      <td>263</td>\n",
       "      <td>757</td>\n",
       "      <td>1237</td>\n",
       "      <td>1417</td>\n",
       "      <td>1363</td>\n",
       "      <td>1053</td>\n",
       "      <td>932</td>\n",
       "      <td>1104</td>\n",
       "    </tr>\n",
       "  </tbody>\n",
       "</table>\n",
       "</div>"
      ],
      "text/plain": [
       "         Age Gender   Race Self-employment       Work Position Remote Work  \\\n",
       "count   4218   4218   1525            4218                1433        1433   \n",
       "unique    65    101     11               3                 264           3   \n",
       "top       30   Male  White               0  Back-end Developer   Sometimes   \n",
       "freq     250   2830    873            3550                 263         757   \n",
       "\n",
       "       MHD Current MHD Past MHD Diagnosed Talk Coworkers Talk Supervisor  \\\n",
       "count         2958     2958          2958           2958            2958   \n",
       "unique           5        6             3              4               4   \n",
       "top            Yes      Yes           Yes          Maybe             Yes   \n",
       "freq          1237     1417          1363           1053             932   \n",
       "\n",
       "       Talk Family  \n",
       "count         2958  \n",
       "unique           6  \n",
       "top      Very open  \n",
       "freq          1104  "
      ]
     },
     "execution_count": 25,
     "metadata": {},
     "output_type": "execute_result"
    }
   ],
   "source": [
    "mental_health_df.describe(include='object')"
   ]
  },
  {
   "cell_type": "code",
   "execution_count": 26,
   "id": "0f29497c",
   "metadata": {},
   "outputs": [],
   "source": [
    "# Transformation of age into integer\n",
    "mental_health_df['Age'] = mental_health_df['Age'].astype('int')\n",
    "\n",
    "# Check if values surpass 100 years or are lower than 0?\n",
    "mental_health_df[(mental_health_df['Age'] < 0) | (mental_health_df['Age'] > 100)]\n",
    "\n",
    "# Attribute NA to these values\n",
    "mental_health_df[(mental_health_df['Age'] < 0) | (mental_health_df['Age'] > 100)] = np.nan"
   ]
  },
  {
   "cell_type": "code",
   "execution_count": 27,
   "id": "ed8b30b7",
   "metadata": {},
   "outputs": [],
   "source": [
    "# Transformation of -1 to Null\n",
    "mental_health_df.replace('-1', np.nan, inplace=True)"
   ]
  },
  {
   "cell_type": "code",
   "execution_count": 28,
   "id": "5cf7a287",
   "metadata": {},
   "outputs": [
    {
     "data": {
      "image/png": "[encoded data removed]",
      "text/plain": [
       "<Figure size 400x300 with 1 Axes>"
      ]
     },
     "metadata": {},
     "output_type": "display_data"
    }
   ],
   "source": [
    "fig, ax1 = plt.subplots(figsize=(4, 3))\n",
    "\n",
    "sns.barplot(\n",
    "    x=mental_health_df[\"MHD Diagnosed\"].value_counts().index,\n",
    "    y=mental_health_df[\"MHD Diagnosed\"].value_counts(),\n",
    "    color=\"#F9D778\",    \n",
    "    fill=False,\n",
    "    edgecolor=\"grey\",\n",
    "    ax=ax1,\n",
    ")\n",
    "\n",
    "# Calculate percentages of each gender\n",
    "percentage = round(\n",
    "    100\n",
    "    * mental_health_df[\"MHD Diagnosed\"].value_counts()\n",
    "    / sum(mental_health_df[\"MHD Diagnosed\"].value_counts()),\n",
    "    1,\n",
    ").tolist()\n",
    "percentage = [f\"({x}%)\" for x in percentage]\n",
    "\n",
    "clear_barplot(ax1, percentage, pad_top=-12, pad_bottom=-24, plot_title=\"Diagnosed Mental Health Disorder\")"
   ]
  },
  {
   "cell_type": "code",
   "execution_count": 29,
   "id": "01e150e0",
   "metadata": {},
   "outputs": [
    {
     "data": {
      "image/png": "[encoded data removed]",
      "text/plain": [
       "<Figure size 800x650 with 2 Axes>"
      ]
     },
     "metadata": {},
     "output_type": "display_data"
    }
   ],
   "source": [
    "fig, (ax1, ax2) = plt.subplots(2,1, figsize=(8, 6.5)) #  sharey=\"row\",\n",
    "\n",
    "sns.barplot(\n",
    "    x=mental_health_df['MHD Past'].value_counts().index,\n",
    "    y=mental_health_df['MHD Past'].value_counts(),\n",
    "    color='lightgrey',\n",
    "    fill=False,\n",
    "    edgecolor=\"grey\",\n",
    "    ax=ax1,\n",
    ")\n",
    "\n",
    "sns.barplot(\n",
    "    x=mental_health_df['MHD Current'].value_counts().index,\n",
    "    y=mental_health_df['MHD Current'].value_counts(),\n",
    "    color='#F9D778',\n",
    "    fill=False,\n",
    "    edgecolor=\"grey\",\n",
    "    ax=ax2,\n",
    ")\n",
    "\n",
    "plt.subplots_adjust(left=0.1, bottom=0.1, right=0.9, top=0.9, wspace=0.2, hspace=0.4)\n",
    "\n",
    "# Calculate percentages of each gender\n",
    "percentage = round(100 * mental_health_df['MHD Past'].value_counts() / sum(mental_health_df['MHD Past'].value_counts()), 1).tolist()\n",
    "percentage = [f\"({x}%)\" for x in percentage]\n",
    "\n",
    "percentage2 = round(100 * mental_health_df['MHD Current'].value_counts() / sum(mental_health_df['MHD Current'].value_counts()), 1).tolist()\n",
    "percentage2 = [f\"({x}%)\" for x in percentage2]\n",
    "\n",
    "clear_barplot(ax1, percentage, plot_title=\"Self-Declared Mental Health Disorder (Past)\", pad_top=0, pad_bottom=-12)\n",
    "clear_barplot(ax2, percentage2, plot_title=\"Self-Declared Mental Health Disorder (Currently)\", pad_top=0, pad_bottom=-12)"
   ]
  },
  {
   "cell_type": "markdown",
   "id": "054e413f",
   "metadata": {},
   "source": [
    "- **65% of the respondents** affirm to have been **diagnosed** with some mental health desease in the past.\n",
    "- Around 48% declare to have suffered from it in the past and 42% to present some degree of mental disorder currently.\n",
    "- Around 20% are not sure if they have had or have mental health issues (\"Maybe\" and \"Possibly\" answers).\n",
    "\n",
    "\n",
    "(Disclaimer: the analysis includes participants that took the survey in different years!!)"
   ]
  },
  {
   "cell_type": "markdown",
   "id": "678160ca",
   "metadata": {},
   "source": [
    "Following we will analyse how the mental health disorder is influenced by the participants characteristics, like age and gender, as well as by the employment characteristics."
   ]
  },
  {
   "cell_type": "markdown",
   "id": "65c6043e",
   "metadata": {},
   "source": [
    "We will use the answers regarding their current mental health situation for analysis. \n",
    "\n",
    "'Maybe' and 'Possibly' answers will be grouped as 'Yes'. 'Don't know' will be considered 'No'."
   ]
  },
  {
   "cell_type": "code",
   "execution_count": 30,
   "id": "04b82dda",
   "metadata": {},
   "outputs": [
    {
     "data": {
      "text/plain": [
       "Yes    1863\n",
       "No     1092\n",
       "Name: MHD Current, dtype: int64"
      ]
     },
     "execution_count": 30,
     "metadata": {},
     "output_type": "execute_result"
    }
   ],
   "source": [
    "mental_health_df[\"MHD Current\"] = mental_health_df[\"MHD Current\"].replace(\n",
    "    {\"Yes\": \"Yes\", \"No\": \"No\", \"Maybe\": \"Yes\", \"Possibly\": \"Yes\", \"Don't Know\": \"No\"}\n",
    ")\n",
    "mental_health_df[\"MHD Current\"].value_counts()"
   ]
  },
  {
   "cell_type": "markdown",
   "id": "1b5d5b93",
   "metadata": {},
   "source": [
    "<h3 style=\"color:#55185D\">Age </h3>"
   ]
  },
  {
   "cell_type": "code",
   "execution_count": 31,
   "id": "fd2989a0",
   "metadata": {},
   "outputs": [
    {
     "data": {
      "image/png": "[encoded data removed]",
      "text/plain": [
       "<Figure size 800x800 with 2 Axes>"
      ]
     },
     "metadata": {},
     "output_type": "display_data"
    }
   ],
   "source": [
    "fig, (ax1, ax2) = plt.subplots(2,1, figsize=(8, 8)) #  sharey=\"row\",\n",
    "\n",
    "sns.histplot(\n",
    "    x=mental_health_df['Age'],\n",
    "    #kde=True,\n",
    "    bins=20,\n",
    "    color='grey',\n",
    "    fill=False,\n",
    "    ax=ax1,\n",
    ")\n",
    "\n",
    "sns.histplot(\n",
    "    data=mental_health_df.loc[~mental_health_df[\"MHD Current\"].isna(), [\"Age\", \"MHD Current\"]],\n",
    "    x=\"Age\",\n",
    "    hue=\"MHD Current\",\n",
    "    multiple=\"dodge\",\n",
    "    shrink=0.85,\n",
    "    bins=20,\n",
    "    palette=['grey',\"#F9D778\"],\n",
    "    edgecolor=\"white\",\n",
    "    alpha=0.8,\n",
    "    kde=True,\n",
    "    ax=ax2,\n",
    ")\n",
    "\n",
    "#ax1.lines[0].set_color('black')\n",
    "ax1.set_xticks(range(15, 75, 10))\n",
    "ax2.set_xticks(range(15, 75, 10))\n",
    "\n",
    "sns.despine()\n",
    "clear_histplot(ax1, \"Participants Age Distribution\")\n",
    "clear_histplot(ax2, \"Mental Health Disorder by Age\", legend_visibility=True);"
   ]
  },
  {
   "cell_type": "markdown",
   "id": "305482f7",
   "metadata": {},
   "source": [
    "Most of the respondents are between 25 and 40 years old.\n",
    "\n",
    "No visual difference is to be seen amongst the different age groups. The proportions between previously diagnosed with a mental health disease and not seem very stable."
   ]
  },
  {
   "cell_type": "markdown",
   "id": "31a97a94",
   "metadata": {},
   "source": [
    "<h3 style=\"color:#55185D\">Gender</h3>"
   ]
  },
  {
   "cell_type": "code",
   "execution_count": 32,
   "id": "838e9504",
   "metadata": {},
   "outputs": [
    {
     "name": "stderr",
     "output_type": "stream",
     "text": [
      "WARNING:root:Applied processor reduces input query to empty string, all comparisons will have score 0. [Query: '\\-']\n"
     ]
    }
   ],
   "source": [
    "# Mapping out the most of the variations that were input for gender\n",
    "gender_mapping = {\n",
    "    \"female\": \"Female\",\n",
    "    \"woman\": \"Female\",\n",
    "    \"male\": \"Male\",\n",
    "    \"man\": \"Male\",\n",
    "    \"she/her\": \"Female\",\n",
    "    \"he/him\": \"Male\",\n",
    "    \"masculine\": \"Male\",\n",
    "    \"guy\": \"Male\",\n",
    "    \"m2f\": \"Female\",\n",
    "    \"fm\": \"Female\",\n",
    "    \"male-ish\": \"Male\",\n",
    "    \"intersex\": \"Intersex\",\n",
    "    \"non-binary\": \"Intersex\",\n",
    "    \"non binary\": \"Intersex\",\n",
    "    \"nonbinary\": \"Intersex\",\n",
    "    \"nb\": \"Intersex\",\n",
    "    \"neuter\": \"Intersex\",\n",
    "    \"nah\": \"Intersex\",\n",
    "    \"none\": \"Intersex\",\n",
    "    \"genderqueer\": \"Intersex\",\n",
    "    \"agender\": \"Intersex\",\n",
    "    \"queer\": \"Intersex\",\n",
    "    \"afab\": \"Intersex\",\n",
    "    \"enby\": \"Intersex\",\n",
    "    \"genderfluid\": \"Intersex\",\n",
    "    \"human\": \"Intersex\",\n",
    "    \"all\": \"Intersex\",\n",
    "    \"androgynous\": \"Intersex\",\n",
    "    \"androgyne\": \"Intersex\",\n",
    "    \"demiguy\": \"Intersex\",\n",
    "    \"demiboy\": \"Intersex\",\n",
    "    \"demigirl\": \"Intersex\",\n",
    "    \"bigender\": \"Intersex\",\n",
    "    \"genderflux\": \"Intersex\",\n",
    "    \"other\": \"Intersex\",\n",
    "}\n",
    "\n",
    "similarity_threshold = 85\n",
    "\n",
    "# Create Gender_Category\n",
    "mental_health_df[\"Gender_Category\"] = mental_health_df[\"Gender\"]\n",
    "\n",
    "# Attribute the similar pattern and the similarity percentage to Gender_Category\n",
    "mental_health_df[\"Gender_Category\"][\n",
    "    mental_health_df[\"Gender\"].notna()\n",
    "] = mental_health_df[\"Gender\"][mental_health_df[\"Gender\"].notna()].apply(\n",
    "    lambda x: process.extractOne(x.lower(), gender_mapping.keys())\n",
    ")\n",
    "\n",
    "# if the similarity is greater than the threshold, then apply.\n",
    "mental_health_df[\"Gender_Category\"][\n",
    "    mental_health_df[\"Gender\"].notna()\n",
    "] = mental_health_df[\"Gender_Category\"][mental_health_df[\"Gender\"].notna()].apply(\n",
    "    lambda x: gender_mapping[x[0]] if x[1] >= similarity_threshold else \"Invalid Answer\"\n",
    ")"
   ]
  },
  {
   "cell_type": "code",
   "execution_count": 33,
   "id": "dba82c30",
   "metadata": {},
   "outputs": [
    {
     "data": {
      "text/html": [
       "<div>\n",
       "<style scoped>\n",
       "    .dataframe tbody tr th:only-of-type {\n",
       "        vertical-align: middle;\n",
       "    }\n",
       "\n",
       "    .dataframe tbody tr th {\n",
       "        vertical-align: top;\n",
       "    }\n",
       "\n",
       "    .dataframe thead th {\n",
       "        text-align: right;\n",
       "    }\n",
       "</style>\n",
       "<table border=\"1\" class=\"dataframe\">\n",
       "  <thead>\n",
       "    <tr style=\"text-align: right;\">\n",
       "      <th></th>\n",
       "      <th>Gender</th>\n",
       "      <th>MHD Current</th>\n",
       "      <th>Gender_Category</th>\n",
       "    </tr>\n",
       "  </thead>\n",
       "  <tbody>\n",
       "    <tr>\n",
       "      <th>4213</th>\n",
       "      <td>male</td>\n",
       "      <td>Yes</td>\n",
       "      <td>Male</td>\n",
       "    </tr>\n",
       "    <tr>\n",
       "      <th>4214</th>\n",
       "      <td>Male</td>\n",
       "      <td>No</td>\n",
       "      <td>Male</td>\n",
       "    </tr>\n",
       "    <tr>\n",
       "      <th>4215</th>\n",
       "      <td>Male</td>\n",
       "      <td>No</td>\n",
       "      <td>Male</td>\n",
       "    </tr>\n",
       "    <tr>\n",
       "      <th>4216</th>\n",
       "      <td>female</td>\n",
       "      <td>Yes</td>\n",
       "      <td>Female</td>\n",
       "    </tr>\n",
       "    <tr>\n",
       "      <th>4217</th>\n",
       "      <td>Female</td>\n",
       "      <td>Yes</td>\n",
       "      <td>Female</td>\n",
       "    </tr>\n",
       "  </tbody>\n",
       "</table>\n",
       "</div>"
      ],
      "text/plain": [
       "      Gender MHD Current Gender_Category\n",
       "4213    male         Yes            Male\n",
       "4214    Male          No            Male\n",
       "4215    Male          No            Male\n",
       "4216  female         Yes          Female\n",
       "4217  Female         Yes          Female"
      ]
     },
     "execution_count": 33,
     "metadata": {},
     "output_type": "execute_result"
    }
   ],
   "source": [
    "mental_health_df[['Gender','MHD Current', 'Gender_Category']].tail()"
   ]
  },
  {
   "cell_type": "code",
   "execution_count": 34,
   "id": "df05086a",
   "metadata": {},
   "outputs": [
    {
     "data": {
      "text/html": [
       "<div>\n",
       "<style scoped>\n",
       "    .dataframe tbody tr th:only-of-type {\n",
       "        vertical-align: middle;\n",
       "    }\n",
       "\n",
       "    .dataframe tbody tr th {\n",
       "        vertical-align: top;\n",
       "    }\n",
       "\n",
       "    .dataframe thead th {\n",
       "        text-align: right;\n",
       "    }\n",
       "</style>\n",
       "<table border=\"1\" class=\"dataframe\">\n",
       "  <thead>\n",
       "    <tr style=\"text-align: right;\">\n",
       "      <th></th>\n",
       "      <th>Gender_Category</th>\n",
       "      <th>Frequency</th>\n",
       "    </tr>\n",
       "  </thead>\n",
       "  <tbody>\n",
       "    <tr>\n",
       "      <th>0</th>\n",
       "      <td>Male</td>\n",
       "      <td>3053</td>\n",
       "    </tr>\n",
       "    <tr>\n",
       "      <th>1</th>\n",
       "      <td>Female</td>\n",
       "      <td>1048</td>\n",
       "    </tr>\n",
       "    <tr>\n",
       "      <th>2</th>\n",
       "      <td>Intersex</td>\n",
       "      <td>71</td>\n",
       "    </tr>\n",
       "  </tbody>\n",
       "</table>\n",
       "</div>"
      ],
      "text/plain": [
       "  Gender_Category  Frequency\n",
       "0            Male       3053\n",
       "1          Female       1048\n",
       "2        Intersex         71"
      ]
     },
     "execution_count": 34,
     "metadata": {},
     "output_type": "execute_result"
    }
   ],
   "source": [
    "gender_freq = (\n",
    "    mental_health_df[mental_health_df[\"Gender_Category\"] != \"Invalid Answer\"]\n",
    "    .groupby(\"Gender_Category\")\n",
    "    .size()\n",
    "    .sort_values(ascending=False)\n",
    "    .to_frame(name=\"Frequency\")\n",
    "    .reset_index()\n",
    ")\n",
    "gender_freq"
   ]
  },
  {
   "cell_type": "code",
   "execution_count": 35,
   "id": "402967f0",
   "metadata": {},
   "outputs": [
    {
     "data": {
      "image/png": "[encoded data removed]",
      "text/plain": [
       "<Figure size 600x700 with 2 Axes>"
      ]
     },
     "metadata": {},
     "output_type": "display_data"
    }
   ],
   "source": [
    "fig, (ax1, ax2) = plt.subplots(2,1, figsize=(6, 7)) #  sharey=\"row\",\n",
    "\n",
    "sns.barplot(\n",
    "    x=gender_freq[\"Gender_Category\"],\n",
    "    y=gender_freq[\"Frequency\"],\n",
    "    fill=False,\n",
    "    alpha=0.8,\n",
    "    ax=ax1,\n",
    ")\n",
    "\n",
    "sns.countplot(\n",
    "    mental_health_df[\"Gender_Category\"][mental_health_df[\"Gender_Category\"] != \"Invalid Answer\"],\n",
    "    hue=mental_health_df[\"MHD Current\"],\n",
    "    order=gender_freq[\"Gender_Category\"],\n",
    "    palette=['grey',\"#F9D778\"],\n",
    "    alpha=0.75,\n",
    "    ax=ax2,\n",
    ")\n",
    "\n",
    "plt.subplots_adjust(left=0.1, bottom=0.1, right=0.9, top=0.9, wspace=0.2, hspace=0.4)\n",
    "\n",
    "# Calculate percentages\n",
    "percentage = round(100 * gender_freq[\"Frequency\"] / sum(gender_freq[\"Frequency\"]), 1).tolist()\n",
    "percentage = [f\"({x}%)\" for x in percentage]\n",
    "\n",
    "clear_barplot(ax1, percentage, plot_title=\"Participants Gender Distribution\\n\", pad_top=8, pad_bottom=0)\n",
    "clear_barplot(ax2, percent=0, plot_title=\"Mental Health Disorder by Gender\\n\", legend_visibility=True, pad_top=0);"
   ]
  },
  {
   "cell_type": "markdown",
   "id": "3007dea2",
   "metadata": {},
   "source": [
    "**Gender**\n",
    "\n",
    "As expected, most of the survey participants are male (72.5%), which reflects well the uneven distribution of gender in tech industry.\n",
    "\n",
    "Moreover, \n",
    "- the proportion of females who have had diagnosed mental health disease (MHD) is about 72%. \n",
    "- 95% of the Intersex group also had MHD.\n",
    "- For males this proportion is reduced to 58%.\n",
    "\n",
    "This highlights how the minorities groups suffer more from mental diseases."
   ]
  },
  {
   "cell_type": "markdown",
   "id": "c7b4f538",
   "metadata": {},
   "source": [
    "<h3 style=\"color:#55185D\">Race</h3>"
   ]
  },
  {
   "cell_type": "markdown",
   "id": "bac4861d",
   "metadata": {},
   "source": [
    "The Question 88 (What is your race?) took place from the 3rd survey on. \n",
    "\n",
    "A separate query will be implemented so that the null values from the first 2 surveys will not influence the analysis."
   ]
  },
  {
   "cell_type": "code",
   "execution_count": 36,
   "id": "0d62e467",
   "metadata": {},
   "outputs": [
    {
     "data": {
      "text/html": [
       "<div>\n",
       "<style scoped>\n",
       "    .dataframe tbody tr th:only-of-type {\n",
       "        vertical-align: middle;\n",
       "    }\n",
       "\n",
       "    .dataframe tbody tr th {\n",
       "        vertical-align: top;\n",
       "    }\n",
       "\n",
       "    .dataframe thead th {\n",
       "        text-align: right;\n",
       "    }\n",
       "</style>\n",
       "<table border=\"1\" class=\"dataframe\">\n",
       "  <thead>\n",
       "    <tr style=\"text-align: right;\">\n",
       "      <th></th>\n",
       "      <th>Answer</th>\n",
       "      <th>Frequency</th>\n",
       "    </tr>\n",
       "  </thead>\n",
       "  <tbody>\n",
       "    <tr>\n",
       "      <th>9</th>\n",
       "      <td>White</td>\n",
       "      <td>873</td>\n",
       "    </tr>\n",
       "    <tr>\n",
       "      <th>0</th>\n",
       "      <td>-1</td>\n",
       "      <td>537</td>\n",
       "    </tr>\n",
       "    <tr>\n",
       "      <th>8</th>\n",
       "      <td>More than one of the above</td>\n",
       "      <td>35</td>\n",
       "    </tr>\n",
       "    <tr>\n",
       "      <th>2</th>\n",
       "      <td>Asian</td>\n",
       "      <td>31</td>\n",
       "    </tr>\n",
       "    <tr>\n",
       "      <th>7</th>\n",
       "      <td>I prefer not to answer</td>\n",
       "      <td>29</td>\n",
       "    </tr>\n",
       "    <tr>\n",
       "      <th>3</th>\n",
       "      <td>Black or African American</td>\n",
       "      <td>15</td>\n",
       "    </tr>\n",
       "    <tr>\n",
       "      <th>1</th>\n",
       "      <td>American Indian or Alaska Native</td>\n",
       "      <td>1</td>\n",
       "    </tr>\n",
       "    <tr>\n",
       "      <th>4</th>\n",
       "      <td>Caucasian</td>\n",
       "      <td>1</td>\n",
       "    </tr>\n",
       "    <tr>\n",
       "      <th>5</th>\n",
       "      <td>European American</td>\n",
       "      <td>1</td>\n",
       "    </tr>\n",
       "    <tr>\n",
       "      <th>6</th>\n",
       "      <td>Hispanic</td>\n",
       "      <td>1</td>\n",
       "    </tr>\n",
       "    <tr>\n",
       "      <th>10</th>\n",
       "      <td>White Hispanic</td>\n",
       "      <td>1</td>\n",
       "    </tr>\n",
       "  </tbody>\n",
       "</table>\n",
       "</div>"
      ],
      "text/plain": [
       "                              Answer  Frequency\n",
       "9                              White        873\n",
       "0                                 -1        537\n",
       "8         More than one of the above         35\n",
       "2                              Asian         31\n",
       "7             I prefer not to answer         29\n",
       "3          Black or African American         15\n",
       "1   American Indian or Alaska Native          1\n",
       "4                          Caucasian          1\n",
       "5                  European American          1\n",
       "6                           Hispanic          1\n",
       "10                    White Hispanic          1"
      ]
     },
     "execution_count": 36,
     "metadata": {},
     "output_type": "execute_result"
    }
   ],
   "source": [
    "query = '''SELECT AnswerText AS Answer,\n",
    "                  COUNT(AnswerText) AS Frequency\n",
    "            FROM Answer\n",
    "            WHERE Answer.QuestionID = 89\n",
    "            GROUP BY Answer'''\n",
    "race = pd.read_sql(query, con).sort_values(by='Frequency', ascending=False)\n",
    "race"
   ]
  },
  {
   "cell_type": "code",
   "execution_count": 37,
   "id": "0bfcdf36",
   "metadata": {},
   "outputs": [
    {
     "data": {
      "text/plain": [
       "3230"
      ]
     },
     "execution_count": 37,
     "metadata": {},
     "output_type": "execute_result"
    }
   ],
   "source": [
    "mental_health_df[mental_health_df['Race'].isna()].shape[0]"
   ]
  },
  {
   "cell_type": "markdown",
   "id": "1e43d36d",
   "metadata": {},
   "source": [
    "**Race**\n",
    "\n",
    "The evaluation of the race groups is not very conclusive."
   ]
  },
  {
   "cell_type": "code",
   "execution_count": 38,
   "id": "f9d9a9e9",
   "metadata": {},
   "outputs": [
    {
     "name": "stdout",
     "output_type": "stream",
     "text": [
      "A great proportion of the respondents did not provide the race: \n",
      "35.2%\n",
      "\n",
      "The major group of respondents declare themselves as white: \n",
      "57.2%\n"
     ]
    }
   ],
   "source": [
    "print(\"A great proportion of the respondents did not provide the race: \")\n",
    "print(f\"{100 * race['Frequency'][race['Answer']=='-1'].values[0] / race['Frequency'].sum():.1f}%\\n\")\n",
    "\n",
    "print(\"The major group of respondents declare themselves as white: \")\n",
    "print(f\"{100 * race['Frequency'][race['Answer']=='White'].values[0] / race['Frequency'].sum():.1f}%\")"
   ]
  },
  {
   "cell_type": "markdown",
   "id": "a1c7da34",
   "metadata": {},
   "source": [
    "<h3 style=\"color:#55185D\">Employment</h3>"
   ]
  },
  {
   "cell_type": "markdown",
   "id": "f4bcfa04",
   "metadata": {},
   "source": [
    "Here the following features were evaluated Self-employment, Remote work."
   ]
  },
  {
   "cell_type": "code",
   "execution_count": 39,
   "id": "63174eab",
   "metadata": {},
   "outputs": [
    {
     "data": {
      "text/html": [
       "<div>\n",
       "<style scoped>\n",
       "    .dataframe tbody tr th:only-of-type {\n",
       "        vertical-align: middle;\n",
       "    }\n",
       "\n",
       "    .dataframe tbody tr th {\n",
       "        vertical-align: top;\n",
       "    }\n",
       "\n",
       "    .dataframe thead th {\n",
       "        text-align: right;\n",
       "    }\n",
       "</style>\n",
       "<table border=\"1\" class=\"dataframe\">\n",
       "  <thead>\n",
       "    <tr style=\"text-align: right;\">\n",
       "      <th></th>\n",
       "      <th>Self-employment</th>\n",
       "      <th>Frequency</th>\n",
       "    </tr>\n",
       "  </thead>\n",
       "  <tbody>\n",
       "    <tr>\n",
       "      <th>0</th>\n",
       "      <td>0</td>\n",
       "      <td>3546</td>\n",
       "    </tr>\n",
       "    <tr>\n",
       "      <th>1</th>\n",
       "      <td>1</td>\n",
       "      <td>646</td>\n",
       "    </tr>\n",
       "  </tbody>\n",
       "</table>\n",
       "</div>"
      ],
      "text/plain": [
       "  Self-employment  Frequency\n",
       "0               0       3546\n",
       "1               1        646"
      ]
     },
     "execution_count": 39,
     "metadata": {},
     "output_type": "execute_result"
    }
   ],
   "source": [
    "# Store of columns in frequency tables\n",
    "remote_work = (\n",
    "    mental_health_df.groupby(\"Remote Work\")\n",
    "    .size()\n",
    "    .sort_values(ascending=False)\n",
    "    .to_frame(name=\"Frequency\")\n",
    "    .reset_index()\n",
    ")\n",
    "\n",
    "self_employed = (\n",
    "    mental_health_df.groupby(\"Self-employment\")\n",
    "    .size()\n",
    "    .sort_values(ascending=False)\n",
    "    .to_frame(name=\"Frequency\")\n",
    "    .reset_index()\n",
    ")\n",
    "self_employed"
   ]
  },
  {
   "cell_type": "code",
   "execution_count": 40,
   "id": "b8e6222e",
   "metadata": {},
   "outputs": [
    {
     "data": {
      "image/png": "[encoded data removed]",
      "text/plain": [
       "<Figure size 800x400 with 2 Axes>"
      ]
     },
     "metadata": {},
     "output_type": "display_data"
    }
   ],
   "source": [
    "fig, (ax1, ax2) = plt.subplots(1, 2, figsize=(8, 4))\n",
    "\n",
    "sns.barplot(\n",
    "    x=\"Remote Work\",\n",
    "    y=\"Frequency\",\n",
    "    data=remote_work,\n",
    "    fill=False,\n",
    "    alpha=0.75,\n",
    "    ax=ax1,\n",
    ")\n",
    "\n",
    "sns.countplot(\n",
    "    mental_health_df[\"Remote Work\"],\n",
    "    hue=mental_health_df[\"MHD Current\"],\n",
    "    order=remote_work[\"Remote Work\"],\n",
    "    palette=['grey',\"#F9D778\"],\n",
    "    alpha=0.75,\n",
    "    ax=ax2,\n",
    ")\n",
    "\n",
    "plt.subplots_adjust(left=0.1, bottom=0.1, right=0.9, top=0.9, wspace=0.4, hspace=0.4)\n",
    "\n",
    "# Calculate percentages\n",
    "percentage = round(\n",
    "    100 * remote_work[\"Frequency\"] / sum(remote_work[\"Frequency\"]), 1\n",
    ").tolist()\n",
    "percentage = [f\"({x}%)\" for x in percentage]\n",
    "\n",
    "\n",
    "clear_barplot(ax1, percentage, plot_title=\"Remote Work Status Distribution\\n\")\n",
    "clear_barplot(\n",
    "    ax2,\n",
    "    percent=0,\n",
    "    plot_title=\"Mental Health Disorder\\nby Remote Work Distribution\",\n",
    "    pad_top=2,\n",
    "    legend_visibility=True,\n",
    ")"
   ]
  },
  {
   "cell_type": "markdown",
   "id": "bd9c29c7",
   "metadata": {},
   "source": [
    "**Remote Work**\n",
    "- Most of the participants are working partially remotely. Only about 23% affirm to carry their activities completely in the office.\n",
    "- The proportion of participants who have been diagnosed with mental health disease in the past is very even throughout the groups (between 60% and 65%)."
   ]
  },
  {
   "cell_type": "code",
   "execution_count": 41,
   "id": "2de4f186",
   "metadata": {},
   "outputs": [
    {
     "data": {
      "image/png": "[encoded data removed]",
      "text/plain": [
       "<Figure size 800x400 with 2 Axes>"
      ]
     },
     "metadata": {},
     "output_type": "display_data"
    }
   ],
   "source": [
    "fig, (ax1, ax2) = plt.subplots(1, 2, figsize=(8, 4))\n",
    "\n",
    "sns.barplot(\n",
    "    x=\"Self-employment\",\n",
    "    y=\"Frequency\",\n",
    "    data=self_employed,\n",
    "    fill=False,\n",
    "    alpha=0.75,\n",
    "    ax=ax1,\n",
    ")\n",
    "\n",
    "sns.countplot(\n",
    "    mental_health_df[\"Self-employment\"],\n",
    "    hue=mental_health_df[\"MHD Current\"],\n",
    "    order=self_employed[\"Self-employment\"],\n",
    "    palette=[\"grey\", \"#F9D778\"],\n",
    "    alpha=0.85,\n",
    "    ax=ax2,\n",
    ")\n",
    "\n",
    "ax1.set_xticks([0, 1])\n",
    "ax1.set_xticklabels([\"Not Self-Employed\", \"Self-Employed\"])\n",
    "ax2.set_xticks([0, 1])\n",
    "ax2.set_xticklabels([\"Not Self-Employed\", \"Self-Employed\"])\n",
    "\n",
    "plt.subplots_adjust(left=0.1, bottom=0.1, right=0.9, top=0.9, wspace=0.4, hspace=0.4)\n",
    "\n",
    "percentage = round(\n",
    "    100 * self_employed[\"Frequency\"] / sum(self_employed[\"Frequency\"]), 1\n",
    ").tolist()\n",
    "percentage = [f\"({x}%)\" for x in percentage]\n",
    "\n",
    "clear_barplot(ax1, percentage, plot_title=\"Self-Employment Status Distribution\\n\")\n",
    "clear_barplot(ax2, percent=0, plot_title=\"Mental Health Disorder\\nby Self-employment Status\", pad_top=2, legend_visibility=True)"
   ]
  },
  {
   "cell_type": "markdown",
   "id": "8d92e298",
   "metadata": {},
   "source": [
    "**Self-employment**\n",
    "- Only 15% of the respondents are self-employed.\n",
    "- The proportion of people who have MHD is also very even in both groups, about 64%."
   ]
  },
  {
   "cell_type": "markdown",
   "id": "1b6e2876",
   "metadata": {},
   "source": [
    "<h3 style=\"color:#55185D\">Openness regarding Mental Health</h3>"
   ]
  },
  {
   "cell_type": "markdown",
   "id": "36c3baf9",
   "metadata": {},
   "source": [
    "Here the ability of opening up about their mental disorder was evaluated."
   ]
  },
  {
   "cell_type": "code",
   "execution_count": 42,
   "id": "a0fd2a8c",
   "metadata": {},
   "outputs": [
    {
     "data": {
      "text/html": [
       "<div>\n",
       "<style scoped>\n",
       "    .dataframe tbody tr th:only-of-type {\n",
       "        vertical-align: middle;\n",
       "    }\n",
       "\n",
       "    .dataframe tbody tr th {\n",
       "        vertical-align: top;\n",
       "    }\n",
       "\n",
       "    .dataframe thead th {\n",
       "        text-align: right;\n",
       "    }\n",
       "</style>\n",
       "<table border=\"1\" class=\"dataframe\">\n",
       "  <thead>\n",
       "    <tr style=\"text-align: right;\">\n",
       "      <th></th>\n",
       "      <th>Talk Coworkers</th>\n",
       "      <th>Frequency</th>\n",
       "    </tr>\n",
       "  </thead>\n",
       "  <tbody>\n",
       "    <tr>\n",
       "      <th>0</th>\n",
       "      <td>Maybe</td>\n",
       "      <td>1052</td>\n",
       "    </tr>\n",
       "    <tr>\n",
       "      <th>1</th>\n",
       "      <td>No</td>\n",
       "      <td>719</td>\n",
       "    </tr>\n",
       "    <tr>\n",
       "      <th>2</th>\n",
       "      <td>Yes</td>\n",
       "      <td>682</td>\n",
       "    </tr>\n",
       "  </tbody>\n",
       "</table>\n",
       "</div>"
      ],
      "text/plain": [
       "  Talk Coworkers  Frequency\n",
       "0          Maybe       1052\n",
       "1             No        719\n",
       "2            Yes        682"
      ]
     },
     "execution_count": 42,
     "metadata": {},
     "output_type": "execute_result"
    }
   ],
   "source": [
    "talk_coworkers = (\n",
    "    mental_health_df.groupby(\"Talk Coworkers\")\n",
    "    .size()\n",
    "    .sort_values(ascending=False)\n",
    "    .to_frame(name=\"Frequency\")\n",
    "    .reset_index()\n",
    ")\n",
    "\n",
    "talk_supervisor = (\n",
    "    mental_health_df.groupby(\"Talk Supervisor\")\n",
    "    .size()\n",
    "    .sort_values(ascending=False)\n",
    "    .to_frame(name=\"Frequency\")\n",
    "    .reset_index()\n",
    ")\n",
    "\n",
    "talk_family = (\n",
    "    mental_health_df.groupby(\"Talk Family\")\n",
    "    .size()\n",
    "    .sort_values(ascending=False)\n",
    "    .to_frame(name=\"Frequency\")\n",
    "    .reset_index()\n",
    ")\n",
    "talk_coworkers"
   ]
  },
  {
   "cell_type": "code",
   "execution_count": 43,
   "id": "a5c391ab",
   "metadata": {},
   "outputs": [
    {
     "data": {
      "image/png": "[encoded data removed]",
      "text/plain": [
       "<Figure size 800x400 with 2 Axes>"
      ]
     },
     "metadata": {},
     "output_type": "display_data"
    }
   ],
   "source": [
    "fig, (ax1, ax2) = plt.subplots(1, 2, figsize=(8, 4))\n",
    "\n",
    "sns.barplot(\n",
    "    x=\"Talk Coworkers\",\n",
    "    y=\"Frequency\",\n",
    "    data=talk_coworkers,\n",
    "    fill=False,\n",
    "    alpha=0.75,\n",
    "    ax=ax1,\n",
    ")\n",
    "\n",
    "sns.countplot(\n",
    "    mental_health_df[\"Talk Coworkers\"],\n",
    "    hue=mental_health_df[\"MHD Current\"],\n",
    "    order=talk_coworkers[\"Talk Coworkers\"],\n",
    "    palette=['grey',\"#F9D778\"],\n",
    "    alpha=0.9,\n",
    "    ax=ax2,\n",
    ")\n",
    "\n",
    "plt.subplots_adjust(left=0.1, bottom=0.1, right=0.9, top=0.9, wspace=0.4, hspace=0.4)\n",
    "\n",
    "# Calculate percentages\n",
    "percentage = round(\n",
    "    100 * talk_coworkers[\"Frequency\"] / sum(talk_coworkers[\"Frequency\"]), 1\n",
    ").tolist()\n",
    "percentage = [f\"({x}%)\" for x in percentage]\n",
    "\n",
    "clear_barplot(\n",
    "    ax1, percentage, plot_title=\"Openness with Coworkers\\n regarding Mental Health\\n\"\n",
    ")\n",
    "clear_barplot(\n",
    "    ax2,\n",
    "    percent=0,\n",
    "    plot_title=\"Mental Health Disorder\\nby Openness with Coworkers\\n\",\n",
    "    pad_top=2,\n",
    "    legend_visibility=True,\n",
    ")"
   ]
  },
  {
   "cell_type": "markdown",
   "id": "31263ea3",
   "metadata": {},
   "source": [
    "**Openness with Coworkers**\n",
    "- Circa 28% of the participants declare being open to talk to coworkers about their mental health. Considering the 'Maybe' group this proportion increases to 70%.\n",
    "- Here again no effective difference can be found in the groups. Proportions vary between 62% and 64%."
   ]
  },
  {
   "cell_type": "code",
   "execution_count": 44,
   "id": "5998dc2c",
   "metadata": {},
   "outputs": [
    {
     "data": {
      "image/png": "[encoded data removed]",
      "text/plain": [
       "<Figure size 1000x400 with 2 Axes>"
      ]
     },
     "metadata": {},
     "output_type": "display_data"
    }
   ],
   "source": [
    "fig, (ax1, ax2) = plt.subplots(1, 2, figsize=(10, 4))\n",
    "\n",
    "sns.barplot(\n",
    "    x=\"Talk Supervisor\",\n",
    "    y=\"Frequency\",\n",
    "    data=talk_supervisor,\n",
    "    fill=False,\n",
    "    alpha=0.75,\n",
    "    ax=ax1,\n",
    ")\n",
    "\n",
    "sns.countplot(\n",
    "    mental_health_df[\"Talk Supervisor\"],\n",
    "    hue=mental_health_df[\"MHD Current\"],\n",
    "    order=talk_supervisor[\"Talk Supervisor\"],\n",
    "    palette=['grey',\"#F9D778\"],\n",
    "    alpha=0.9,\n",
    "    ax=ax2,\n",
    ")\n",
    "\n",
    "#plt.subplots_adjust(left=0.1, bottom=0.1, right=0.9, top=0.9, wspace=0.4, hspace=0.4)\n",
    "\n",
    "# Calculate percentages\n",
    "percentage = round(\n",
    "    100 * talk_supervisor[\"Frequency\"] / sum(talk_supervisor[\"Frequency\"]), 1\n",
    ").tolist()\n",
    "percentage = [f\"({x}%)\" for x in percentage]\n",
    "\n",
    "clear_barplot(\n",
    "    ax1, percentage, plot_title=\"Openness with the Supervisor\\n regarding Mental Health\\n\"\n",
    ")\n",
    "clear_barplot(\n",
    "    ax2,\n",
    "    percent=0,\n",
    "    plot_title=\"Mental Health Disorder\\nby Openness with the Supervisor\\n\",\n",
    "    pad_top=2,\n",
    "    legend_visibility=True,\n",
    ")"
   ]
  },
  {
   "cell_type": "markdown",
   "id": "2db344ed",
   "metadata": {},
   "source": [
    "**Openness with Supervisor**\n",
    "- The openness to talk about MHD with the supervisor increases to 38%.\n",
    "- Here the group of people who is not open is slightly having more MH issues, 66% in relation to the other groups 60% (yes) and 62% (maybe)."
   ]
  },
  {
   "cell_type": "code",
   "execution_count": 45,
   "id": "20f94294",
   "metadata": {},
   "outputs": [
    {
     "data": {
      "text/html": [
       "<div>\n",
       "<style scoped>\n",
       "    .dataframe tbody tr th:only-of-type {\n",
       "        vertical-align: middle;\n",
       "    }\n",
       "\n",
       "    .dataframe tbody tr th {\n",
       "        vertical-align: top;\n",
       "    }\n",
       "\n",
       "    .dataframe thead th {\n",
       "        text-align: right;\n",
       "    }\n",
       "</style>\n",
       "<table border=\"1\" class=\"dataframe\">\n",
       "  <thead>\n",
       "    <tr style=\"text-align: right;\">\n",
       "      <th></th>\n",
       "      <th>Talk Family</th>\n",
       "      <th>Frequency</th>\n",
       "    </tr>\n",
       "  </thead>\n",
       "  <tbody>\n",
       "    <tr>\n",
       "      <th>0</th>\n",
       "      <td>Very open</td>\n",
       "      <td>1103</td>\n",
       "    </tr>\n",
       "    <tr>\n",
       "      <th>1</th>\n",
       "      <td>Somewhat open</td>\n",
       "      <td>791</td>\n",
       "    </tr>\n",
       "    <tr>\n",
       "      <th>2</th>\n",
       "      <td>Not open at all</td>\n",
       "      <td>331</td>\n",
       "    </tr>\n",
       "    <tr>\n",
       "      <th>3</th>\n",
       "      <td>Neutral</td>\n",
       "      <td>328</td>\n",
       "    </tr>\n",
       "    <tr>\n",
       "      <th>4</th>\n",
       "      <td>Somewhat not open</td>\n",
       "      <td>290</td>\n",
       "    </tr>\n",
       "    <tr>\n",
       "      <th>5</th>\n",
       "      <td>Not applicable to me (I do not have a mental i...</td>\n",
       "      <td>112</td>\n",
       "    </tr>\n",
       "  </tbody>\n",
       "</table>\n",
       "</div>"
      ],
      "text/plain": [
       "                                         Talk Family  Frequency\n",
       "0                                          Very open       1103\n",
       "1                                      Somewhat open        791\n",
       "2                                    Not open at all        331\n",
       "3                                            Neutral        328\n",
       "4                                  Somewhat not open        290\n",
       "5  Not applicable to me (I do not have a mental i...        112"
      ]
     },
     "execution_count": 45,
     "metadata": {},
     "output_type": "execute_result"
    }
   ],
   "source": [
    "talk_family"
   ]
  },
  {
   "cell_type": "code",
   "execution_count": 46,
   "id": "babc6708",
   "metadata": {},
   "outputs": [
    {
     "data": {
      "image/png": "[encoded data removed]",
      "text/plain": [
       "<Figure size 1000x500 with 2 Axes>"
      ]
     },
     "metadata": {},
     "output_type": "display_data"
    }
   ],
   "source": [
    "fig, (ax1, ax2) = plt.subplots(1, 2, figsize=(10, 5))\n",
    "\n",
    "sns.barplot(\n",
    "    x=\"Talk Family\",\n",
    "    y=\"Frequency\",\n",
    "    data=talk_family,\n",
    "    fill=False,\n",
    "    alpha=0.75,\n",
    "    ax=ax1,\n",
    ")\n",
    "\n",
    "sns.countplot(\n",
    "    mental_health_df[\"Talk Family\"],\n",
    "    hue=mental_health_df[\"MHD Current\"],\n",
    "    order=talk_family[\"Talk Family\"],\n",
    "    palette=['grey',\"#F9D778\"],\n",
    "    alpha=0.9,\n",
    "    ax=ax2,\n",
    ")\n",
    "\n",
    "plt.subplots_adjust(left=0.1, bottom=0.1, right=0.9, top=0.9, wspace=0.4, hspace=0.4)\n",
    "\n",
    "# Get the current tick labels\n",
    "xtick_labels = ax2.get_xticklabels()\n",
    "\n",
    "# Modify the value at the 5th index\n",
    "xtick_labels[5] = \"Not applicable\"\n",
    "ax1.set_xticklabels(xtick_labels, rotation=45, ha='right')\n",
    "ax2.set_xticklabels(xtick_labels, rotation=45, ha='right')\n",
    "\n",
    "# Calculate percentages\n",
    "percentage = round(\n",
    "    100 * talk_family[\"Frequency\"] / sum(talk_family[\"Frequency\"]), 1\n",
    ").tolist()\n",
    "percentage = [f\"({x}%)\" for x in percentage]\n",
    "\n",
    "clear_barplot(\n",
    "    ax1, percentage, plot_title=\"Openness with Family regarding Mental Health\\n\"\n",
    ")\n",
    "clear_barplot(\n",
    "    ax2,\n",
    "    percent=0,\n",
    "    plot_title=\"Mental Health Disorder\\nby Openness with Family\\n\",\n",
    "    pad_top=2,\n",
    "    legend_visibility=True,\n",
    ")"
   ]
  },
  {
   "cell_type": "markdown",
   "id": "12651e18",
   "metadata": {},
   "source": [
    "**Openness with Family**\n",
    "- The openness to talk about MHD with a family member amounts to 64% (Very open and Somewhat open groups).\n",
    "- About 4% of the participants marked the option that they don't have a MHD. 14 of them are however are classified as having it (which might come from 'maybe' and 'possibly' converted to yes in the currently MHD question).\n",
    "\n",
    "\n",
    "- It is interesting to notice from the right graph that the proportion of people currently with MHD increases with the willingness to talk (69%, 64% 61%...). Maybe because they recognize the importance of opening up in the process of getting better."
   ]
  },
  {
   "cell_type": "code",
   "execution_count": 47,
   "id": "ef9e99ea",
   "metadata": {},
   "outputs": [
    {
     "name": "stdout",
     "output_type": "stream",
     "text": [
      "0.6132930513595166\n"
     ]
    }
   ],
   "source": [
    "def divisao (y, n):\n",
    "    print(y/(y+n))\n",
    "    \n",
    "divisao(203,128)"
   ]
  },
  {
   "cell_type": "markdown",
   "id": "7dd3b909",
   "metadata": {},
   "source": [
    "<h3 style=\"color:#55185D\">Open Answers</h3>"
   ]
  },
  {
   "cell_type": "markdown",
   "id": "ba9383c8",
   "metadata": {},
   "source": [
    "This section will dive a little bit into the open answer provided by the respondents in question 87"
   ]
  },
  {
   "cell_type": "code",
   "execution_count": 48,
   "id": "79323c7f",
   "metadata": {},
   "outputs": [
    {
     "name": "stdout",
     "output_type": "stream",
     "text": [
      "['If there is anything else you would like to tell us that has not been covered by the survey questions, please use this space to do so.']\n"
     ]
    }
   ],
   "source": [
    "print(question['questiontext'][question['questionid']==87].values)"
   ]
  },
  {
   "cell_type": "code",
   "execution_count": 49,
   "id": "1d0d1049",
   "metadata": {},
   "outputs": [
    {
     "data": {
      "text/html": [
       "<div>\n",
       "<style scoped>\n",
       "    .dataframe tbody tr th:only-of-type {\n",
       "        vertical-align: middle;\n",
       "    }\n",
       "\n",
       "    .dataframe tbody tr th {\n",
       "        vertical-align: top;\n",
       "    }\n",
       "\n",
       "    .dataframe thead th {\n",
       "        text-align: right;\n",
       "    }\n",
       "</style>\n",
       "<table border=\"1\" class=\"dataframe\">\n",
       "  <thead>\n",
       "    <tr style=\"text-align: right;\">\n",
       "      <th></th>\n",
       "      <th>Answer</th>\n",
       "    </tr>\n",
       "  </thead>\n",
       "  <tbody>\n",
       "    <tr>\n",
       "      <th>1518</th>\n",
       "      <td>-1</td>\n",
       "    </tr>\n",
       "    <tr>\n",
       "      <th>1519</th>\n",
       "      <td>reasons for mental health issues should be cov...</td>\n",
       "    </tr>\n",
       "    <tr>\n",
       "      <th>1520</th>\n",
       "      <td>-1</td>\n",
       "    </tr>\n",
       "    <tr>\n",
       "      <th>1521</th>\n",
       "      <td>-1</td>\n",
       "    </tr>\n",
       "    <tr>\n",
       "      <th>1522</th>\n",
       "      <td>sdsdsdsdsdsd</td>\n",
       "    </tr>\n",
       "    <tr>\n",
       "      <th>1523</th>\n",
       "      <td>no</td>\n",
       "    </tr>\n",
       "    <tr>\n",
       "      <th>1524</th>\n",
       "      <td>I've had to drive all of the progress in menta...</td>\n",
       "    </tr>\n",
       "  </tbody>\n",
       "</table>\n",
       "</div>"
      ],
      "text/plain": [
       "                                                 Answer\n",
       "1518                                                 -1\n",
       "1519  reasons for mental health issues should be cov...\n",
       "1520                                                 -1\n",
       "1521                                                 -1\n",
       "1522                                       sdsdsdsdsdsd\n",
       "1523                                                 no\n",
       "1524  I've had to drive all of the progress in menta..."
      ]
     },
     "execution_count": 49,
     "metadata": {},
     "output_type": "execute_result"
    }
   ],
   "source": [
    "query = ''' SELECT AnswerText AS Answer\n",
    "            FROM Answer\n",
    "            WHERE Answer.QuestionID = 87'''\n",
    "open_talk = pd.read_sql(query, con)\n",
    "open_talk.tail(7)"
   ]
  },
  {
   "cell_type": "code",
   "execution_count": 50,
   "id": "2bbee437",
   "metadata": {},
   "outputs": [],
   "source": [
    "# Limit the minimum size for relevancy of the answers\n",
    "open_talk = open_talk[open_talk['Answer'].str.len()>15]"
   ]
  },
  {
   "cell_type": "code",
   "execution_count": 51,
   "id": "bcd4b5e0",
   "metadata": {},
   "outputs": [
    {
     "data": {
      "image/png": "[encoded data removed]",
      "text/plain": [
       "<Figure size 640x480 with 1 Axes>"
      ]
     },
     "metadata": {},
     "output_type": "display_data"
    }
   ],
   "source": [
    "from wordcloud import WordCloud\n",
    "text = open_talk['Answer'].values\n",
    "wordcloud = WordCloud(\n",
    "    background_color=\"white\", colormap=\"tab20c\", width=1000, height=600, max_words=50, min_word_length=4).generate(str(text))\n",
    "\n",
    "plt.imshow(wordcloud, interpolation=\"bilinear\")\n",
    "plt.axis(\"off\");"
   ]
  },
  {
   "cell_type": "markdown",
   "id": "0af7ab74",
   "metadata": {},
   "source": [
    "By the word cloud, we see that there is a feeling of gratitude torwards the people involved in the survey (word: **Thank**).\n",
    "As expected, similar words to **mental health (disorder)** are to be found very often through the text.\n",
    "The words **talk** and **help** are also there maybe showing that discussing about mental health or asking for help is not an easy thing for the respondents. There is a lot of **stigma** still associated with these **issues**."
   ]
  },
  {
   "cell_type": "markdown",
   "id": "86be1556",
   "metadata": {},
   "source": [
    "Next a short sentiment analysis was performed using the Natural Language Toolkit (NLTK)."
   ]
  },
  {
   "cell_type": "code",
   "execution_count": 52,
   "id": "61bfa58c",
   "metadata": {},
   "outputs": [
    {
     "data": {
      "text/html": [
       "<div>\n",
       "<style scoped>\n",
       "    .dataframe tbody tr th:only-of-type {\n",
       "        vertical-align: middle;\n",
       "    }\n",
       "\n",
       "    .dataframe tbody tr th {\n",
       "        vertical-align: top;\n",
       "    }\n",
       "\n",
       "    .dataframe thead th {\n",
       "        text-align: right;\n",
       "    }\n",
       "</style>\n",
       "<table border=\"1\" class=\"dataframe\">\n",
       "  <thead>\n",
       "    <tr style=\"text-align: right;\">\n",
       "      <th></th>\n",
       "      <th>Answer</th>\n",
       "      <th>Sentiment</th>\n",
       "      <th>Sentiment_Label</th>\n",
       "    </tr>\n",
       "  </thead>\n",
       "  <tbody>\n",
       "    <tr>\n",
       "      <th>11</th>\n",
       "      <td>People with mental disorders can be just as pr...</td>\n",
       "      <td>0.9432</td>\n",
       "      <td>Positive</td>\n",
       "    </tr>\n",
       "    <tr>\n",
       "      <th>17</th>\n",
       "      <td>Good mental health is vital to complete good q...</td>\n",
       "      <td>0.9360</td>\n",
       "      <td>Positive</td>\n",
       "    </tr>\n",
       "    <tr>\n",
       "      <th>19</th>\n",
       "      <td>Speaking openly about anything that might be c...</td>\n",
       "      <td>0.8591</td>\n",
       "      <td>Positive</td>\n",
       "    </tr>\n",
       "    <tr>\n",
       "      <th>29</th>\n",
       "      <td>How can I see your findings?</td>\n",
       "      <td>0.0000</td>\n",
       "      <td>Neutral</td>\n",
       "    </tr>\n",
       "    <tr>\n",
       "      <th>37</th>\n",
       "      <td>Admitting you have a mental illness is the fir...</td>\n",
       "      <td>-0.4019</td>\n",
       "      <td>Negative</td>\n",
       "    </tr>\n",
       "  </tbody>\n",
       "</table>\n",
       "</div>"
      ],
      "text/plain": [
       "                                               Answer  Sentiment  \\\n",
       "11  People with mental disorders can be just as pr...     0.9432   \n",
       "17  Good mental health is vital to complete good q...     0.9360   \n",
       "19  Speaking openly about anything that might be c...     0.8591   \n",
       "29                       How can I see your findings?     0.0000   \n",
       "37  Admitting you have a mental illness is the fir...    -0.4019   \n",
       "\n",
       "   Sentiment_Label  \n",
       "11        Positive  \n",
       "17        Positive  \n",
       "19        Positive  \n",
       "29         Neutral  \n",
       "37        Negative  "
      ]
     },
     "execution_count": 52,
     "metadata": {},
     "output_type": "execute_result"
    }
   ],
   "source": [
    "# VADER lexicon already downloaded!\n",
    "# nltk.download('vader_lexicon')\n",
    "\n",
    "sia = SentimentIntensityAnalyzer()  # Initialization\n",
    "\n",
    "# Apply find the polarity for each response\n",
    "open_talk[\"Sentiment\"] = open_talk[\"Answer\"].apply(\n",
    "    lambda x: sia.polarity_scores(x)[\"compound\"]\n",
    ")\n",
    "\n",
    "# Classify the polarity based on the score\n",
    "open_talk[\"Sentiment_Label\"] = open_talk[\"Sentiment\"].apply(\n",
    "    lambda x: \"Positive\" if x >= 0.05 else \"Negative\" if x <= -0.05 else \"Neutral\"\n",
    ")\n",
    "\n",
    "open_talk.head()"
   ]
  },
  {
   "cell_type": "code",
   "execution_count": 53,
   "id": "238400f1",
   "metadata": {},
   "outputs": [
    {
     "data": {
      "text/plain": [
       "Positive    56.1\n",
       "Negative    31.4\n",
       "Neutral     12.6\n",
       "Name: Sentiment_Label, dtype: float64"
      ]
     },
     "execution_count": 53,
     "metadata": {},
     "output_type": "execute_result"
    }
   ],
   "source": [
    "round(100 * open_talk['Sentiment_Label'].value_counts()/sum(open_talk['Sentiment_Label'].value_counts()),1)"
   ]
  },
  {
   "cell_type": "markdown",
   "id": "c7a1835b",
   "metadata": {},
   "source": [
    "Most of the answer have a posite conotation (56%).\n",
    "\n",
    "Let's take a look to see if we find some specific answer that highlight the importance of talking about mental health."
   ]
  },
  {
   "cell_type": "code",
   "execution_count": 54,
   "id": "ef35ae32",
   "metadata": {},
   "outputs": [
    {
     "data": {
      "text/html": [
       "<div>\n",
       "<style scoped>\n",
       "    .dataframe tbody tr th:only-of-type {\n",
       "        vertical-align: middle;\n",
       "    }\n",
       "\n",
       "    .dataframe tbody tr th {\n",
       "        vertical-align: top;\n",
       "    }\n",
       "\n",
       "    .dataframe thead th {\n",
       "        text-align: right;\n",
       "    }\n",
       "</style>\n",
       "<table border=\"1\" class=\"dataframe\">\n",
       "  <thead>\n",
       "    <tr style=\"text-align: right;\">\n",
       "      <th></th>\n",
       "      <th>Answer</th>\n",
       "      <th>Sentiment</th>\n",
       "      <th>Sentiment_Label</th>\n",
       "    </tr>\n",
       "  </thead>\n",
       "  <tbody>\n",
       "    <tr>\n",
       "      <th>11</th>\n",
       "      <td>People with mental disorders can be just as pr...</td>\n",
       "      <td>0.9432</td>\n",
       "      <td>Positive</td>\n",
       "    </tr>\n",
       "    <tr>\n",
       "      <th>17</th>\n",
       "      <td>Good mental health is vital to complete good q...</td>\n",
       "      <td>0.9360</td>\n",
       "      <td>Positive</td>\n",
       "    </tr>\n",
       "    <tr>\n",
       "      <th>164</th>\n",
       "      <td>My current work experiences are tempered by th...</td>\n",
       "      <td>0.9396</td>\n",
       "      <td>Positive</td>\n",
       "    </tr>\n",
       "    <tr>\n",
       "      <th>723</th>\n",
       "      <td>In my previous job, getting questioned for the...</td>\n",
       "      <td>0.9359</td>\n",
       "      <td>Positive</td>\n",
       "    </tr>\n",
       "    <tr>\n",
       "      <th>834</th>\n",
       "      <td>Thank you for the good work you do to help peo...</td>\n",
       "      <td>0.9184</td>\n",
       "      <td>Positive</td>\n",
       "    </tr>\n",
       "    <tr>\n",
       "      <th>841</th>\n",
       "      <td>I think I gave the tech sector 3 stars for dea...</td>\n",
       "      <td>0.9168</td>\n",
       "      <td>Positive</td>\n",
       "    </tr>\n",
       "    <tr>\n",
       "      <th>853</th>\n",
       "      <td>Yes, the first question \"self-employed\" should...</td>\n",
       "      <td>0.9316</td>\n",
       "      <td>Positive</td>\n",
       "    </tr>\n",
       "    <tr>\n",
       "      <th>1020</th>\n",
       "      <td>The greatest point of stress in managing peopl...</td>\n",
       "      <td>0.9064</td>\n",
       "      <td>Positive</td>\n",
       "    </tr>\n",
       "    <tr>\n",
       "      <th>1084</th>\n",
       "      <td>It's only as I've gotten older that I'm accept...</td>\n",
       "      <td>0.9074</td>\n",
       "      <td>Positive</td>\n",
       "    </tr>\n",
       "    <tr>\n",
       "      <th>1086</th>\n",
       "      <td>I revealed my ADHD diagnosis to my supervisor ...</td>\n",
       "      <td>0.9695</td>\n",
       "      <td>Positive</td>\n",
       "    </tr>\n",
       "    <tr>\n",
       "      <th>1257</th>\n",
       "      <td>The distinction between suffering a mental ill...</td>\n",
       "      <td>0.9230</td>\n",
       "      <td>Positive</td>\n",
       "    </tr>\n",
       "    <tr>\n",
       "      <th>1418</th>\n",
       "      <td>I think a lot of people would be open to discu...</td>\n",
       "      <td>0.9442</td>\n",
       "      <td>Positive</td>\n",
       "    </tr>\n",
       "    <tr>\n",
       "      <th>1509</th>\n",
       "      <td>I answered using your “disordered = doctor dia...</td>\n",
       "      <td>0.9314</td>\n",
       "      <td>Positive</td>\n",
       "    </tr>\n",
       "  </tbody>\n",
       "</table>\n",
       "</div>"
      ],
      "text/plain": [
       "                                                 Answer  Sentiment  \\\n",
       "11    People with mental disorders can be just as pr...     0.9432   \n",
       "17    Good mental health is vital to complete good q...     0.9360   \n",
       "164   My current work experiences are tempered by th...     0.9396   \n",
       "723   In my previous job, getting questioned for the...     0.9359   \n",
       "834   Thank you for the good work you do to help peo...     0.9184   \n",
       "841   I think I gave the tech sector 3 stars for dea...     0.9168   \n",
       "853   Yes, the first question \"self-employed\" should...     0.9316   \n",
       "1020  The greatest point of stress in managing peopl...     0.9064   \n",
       "1084  It's only as I've gotten older that I'm accept...     0.9074   \n",
       "1086  I revealed my ADHD diagnosis to my supervisor ...     0.9695   \n",
       "1257  The distinction between suffering a mental ill...     0.9230   \n",
       "1418  I think a lot of people would be open to discu...     0.9442   \n",
       "1509  I answered using your “disordered = doctor dia...     0.9314   \n",
       "\n",
       "     Sentiment_Label  \n",
       "11          Positive  \n",
       "17          Positive  \n",
       "164         Positive  \n",
       "723         Positive  \n",
       "834         Positive  \n",
       "841         Positive  \n",
       "853         Positive  \n",
       "1020        Positive  \n",
       "1084        Positive  \n",
       "1086        Positive  \n",
       "1257        Positive  \n",
       "1418        Positive  \n",
       "1509        Positive  "
      ]
     },
     "execution_count": 54,
     "metadata": {},
     "output_type": "execute_result"
    }
   ],
   "source": [
    "open_talk[open_talk['Sentiment'] > 0.9]"
   ]
  },
  {
   "cell_type": "code",
   "execution_count": 55,
   "id": "5d0361c7",
   "metadata": {},
   "outputs": [],
   "source": [
    "#open_talk['Answer'][1084]"
   ]
  },
  {
   "cell_type": "markdown",
   "id": "b97fc4eb",
   "metadata": {},
   "source": [
    "One very impactant part of this answer was:\n",
    "\n",
    "**I felt relieved when I found out others in my life had similar mental health issues as I do.**"
   ]
  },
  {
   "cell_type": "code",
   "execution_count": 56,
   "id": "2045149d",
   "metadata": {},
   "outputs": [
    {
     "data": {
      "text/html": [
       "<div>\n",
       "<style scoped>\n",
       "    .dataframe tbody tr th:only-of-type {\n",
       "        vertical-align: middle;\n",
       "    }\n",
       "\n",
       "    .dataframe tbody tr th {\n",
       "        vertical-align: top;\n",
       "    }\n",
       "\n",
       "    .dataframe thead th {\n",
       "        text-align: right;\n",
       "    }\n",
       "</style>\n",
       "<table border=\"1\" class=\"dataframe\">\n",
       "  <thead>\n",
       "    <tr style=\"text-align: right;\">\n",
       "      <th></th>\n",
       "      <th>Answer</th>\n",
       "      <th>Sentiment</th>\n",
       "      <th>Sentiment_Label</th>\n",
       "    </tr>\n",
       "  </thead>\n",
       "  <tbody>\n",
       "    <tr>\n",
       "      <th>241</th>\n",
       "      <td>I have a huge amount of anger and depression a...</td>\n",
       "      <td>-0.8102</td>\n",
       "      <td>Negative</td>\n",
       "    </tr>\n",
       "    <tr>\n",
       "      <th>249</th>\n",
       "      <td>I'd like to see a more open discussion in the ...</td>\n",
       "      <td>-0.8381</td>\n",
       "      <td>Negative</td>\n",
       "    </tr>\n",
       "    <tr>\n",
       "      <th>267</th>\n",
       "      <td>Please think very hard about women/POC and men...</td>\n",
       "      <td>-0.8655</td>\n",
       "      <td>Negative</td>\n",
       "    </tr>\n",
       "    <tr>\n",
       "      <th>315</th>\n",
       "      <td>I wish we could change things, but the bottom ...</td>\n",
       "      <td>-0.8160</td>\n",
       "      <td>Negative</td>\n",
       "    </tr>\n",
       "    <tr>\n",
       "      <th>447</th>\n",
       "      <td>Living with mental illness is already a strugg...</td>\n",
       "      <td>-0.9100</td>\n",
       "      <td>Negative</td>\n",
       "    </tr>\n",
       "    <tr>\n",
       "      <th>508</th>\n",
       "      <td>I don't feel like I'm any kind of authority on...</td>\n",
       "      <td>-0.9778</td>\n",
       "      <td>Negative</td>\n",
       "    </tr>\n",
       "    <tr>\n",
       "      <th>566</th>\n",
       "      <td>Some people in tech blog bravely about their m...</td>\n",
       "      <td>-0.8689</td>\n",
       "      <td>Negative</td>\n",
       "    </tr>\n",
       "    <tr>\n",
       "      <th>624</th>\n",
       "      <td>I had a boss so bad and micromanaging that I h...</td>\n",
       "      <td>-0.8122</td>\n",
       "      <td>Negative</td>\n",
       "    </tr>\n",
       "    <tr>\n",
       "      <th>665</th>\n",
       "      <td>I feel the IT industry gets labeled as a 'low ...</td>\n",
       "      <td>-0.9486</td>\n",
       "      <td>Negative</td>\n",
       "    </tr>\n",
       "    <tr>\n",
       "      <th>857</th>\n",
       "      <td>tech companies are largely responsible for gun...</td>\n",
       "      <td>-0.9485</td>\n",
       "      <td>Negative</td>\n",
       "    </tr>\n",
       "    <tr>\n",
       "      <th>951</th>\n",
       "      <td>I think this issue is very very different for ...</td>\n",
       "      <td>-0.9117</td>\n",
       "      <td>Negative</td>\n",
       "    </tr>\n",
       "    <tr>\n",
       "      <th>994</th>\n",
       "      <td>There seems to be an epidemic of narcissistic ...</td>\n",
       "      <td>-0.9669</td>\n",
       "      <td>Negative</td>\n",
       "    </tr>\n",
       "    <tr>\n",
       "      <th>1051</th>\n",
       "      <td>Mental health is considered taboo in many Asia...</td>\n",
       "      <td>-0.8364</td>\n",
       "      <td>Negative</td>\n",
       "    </tr>\n",
       "    <tr>\n",
       "      <th>1225</th>\n",
       "      <td>I don’t think the IT industry is particularly ...</td>\n",
       "      <td>-0.8384</td>\n",
       "      <td>Negative</td>\n",
       "    </tr>\n",
       "    <tr>\n",
       "      <th>1469</th>\n",
       "      <td>Mental health access or struggles should not e...</td>\n",
       "      <td>-0.9226</td>\n",
       "      <td>Negative</td>\n",
       "    </tr>\n",
       "  </tbody>\n",
       "</table>\n",
       "</div>"
      ],
      "text/plain": [
       "                                                 Answer  Sentiment  \\\n",
       "241   I have a huge amount of anger and depression a...    -0.8102   \n",
       "249   I'd like to see a more open discussion in the ...    -0.8381   \n",
       "267   Please think very hard about women/POC and men...    -0.8655   \n",
       "315   I wish we could change things, but the bottom ...    -0.8160   \n",
       "447   Living with mental illness is already a strugg...    -0.9100   \n",
       "508   I don't feel like I'm any kind of authority on...    -0.9778   \n",
       "566   Some people in tech blog bravely about their m...    -0.8689   \n",
       "624   I had a boss so bad and micromanaging that I h...    -0.8122   \n",
       "665   I feel the IT industry gets labeled as a 'low ...    -0.9486   \n",
       "857   tech companies are largely responsible for gun...    -0.9485   \n",
       "951   I think this issue is very very different for ...    -0.9117   \n",
       "994   There seems to be an epidemic of narcissistic ...    -0.9669   \n",
       "1051  Mental health is considered taboo in many Asia...    -0.8364   \n",
       "1225  I don’t think the IT industry is particularly ...    -0.8384   \n",
       "1469  Mental health access or struggles should not e...    -0.9226   \n",
       "\n",
       "     Sentiment_Label  \n",
       "241         Negative  \n",
       "249         Negative  \n",
       "267         Negative  \n",
       "315         Negative  \n",
       "447         Negative  \n",
       "508         Negative  \n",
       "566         Negative  \n",
       "624         Negative  \n",
       "665         Negative  \n",
       "857         Negative  \n",
       "951         Negative  \n",
       "994         Negative  \n",
       "1051        Negative  \n",
       "1225        Negative  \n",
       "1469        Negative  "
      ]
     },
     "execution_count": 56,
     "metadata": {},
     "output_type": "execute_result"
    }
   ],
   "source": [
    "open_talk[open_talk['Sentiment'] < -0.8]"
   ]
  },
  {
   "cell_type": "code",
   "execution_count": 57,
   "id": "dce32699",
   "metadata": {},
   "outputs": [],
   "source": [
    "#open_talk['Answer'][566]"
   ]
  },
  {
   "cell_type": "markdown",
   "id": "a7c504fd",
   "metadata": {},
   "source": [
    "**Whatever stigma there is about mental health in tech, it is far worse for women**"
   ]
  },
  {
   "cell_type": "markdown",
   "id": "d1f8cc5d",
   "metadata": {},
   "source": [
    "<h1 style=\"color:#55185D\">Conclusions </h1>"
   ]
  },
  {
   "cell_type": "markdown",
   "id": "8cbc1e37",
   "metadata": {},
   "source": [
    "   - The survey experienced variations in the number of questions and participants across different years, with the highest participation rate observed in 2016.\n",
    "\n",
    "\n",
    "   - A majority of the participants reside in the United States or English-speaking countries.\n",
    "   - The most prevalent group among participants consisted of white men around the age of 30.\n",
    "\n",
    "\n",
    "   - Past mental health diagnoses were reported by approximately 65% of respondents, while the current proportion of individuals with a mental health disorder (MHD) stood at 42%. When considering the \"possibly\" and \"maybe\" categories, this proportion increased to 63%.\n",
    "\n",
    "\n",
    "   - The prevalence of MHD did not exhibit significant changes across different age groups or in relation to the evaluated employment characteristics.\n",
    "   - Women (72%) and individuals identifying as intersex (95%) displayed a notably higher proportion of MHD compared to men (58%), highlighting the increased vulnerability of minority groups to mental health conditions.\n",
    "    \n",
    "\n",
    "   - The willingness to discuss mental health issues did not appear to have a significant impact on the proportion of participants with MHD, except in the case of openness with family members. A greater proportion of individuals who were more open in this aspect tended to have some degree of MHD.\n",
    "\n",
    "\n",
    "   - Overall, the open responses conveyed a positive sentiment towards the survey.\n",
    "   \n",
    "Besides, the dataset is very rich and a lot of analysis could still be done on the data.\n"
   ]
  },
  {
   "cell_type": "code",
   "execution_count": 59,
   "id": "ec86e22e",
   "metadata": {},
   "outputs": [
    {
     "name": "stdout",
     "output_type": "stream",
     "text": [
      "Sentiment: 0.936, \n",
      ", row['Answer'].replace('.','.\n",
      "'), \n",
      "\n",
      "Sentiment: 0.923, \n",
      ", row['Answer'].replace('.','.\n",
      "'), \n",
      "\n",
      "Sentiment: 0.9314, \n",
      ", row['Answer'].replace('.','.\n",
      "'), \n",
      "\n"
     ]
    }
   ],
   "source": [
    "for index, row in open_talk.iterrows():\n",
    "    if index in [17, 1509, 1257]:\n",
    "        print(f\"Sentiment: {row['Sentiment']}, \\n, row['Answer'].replace('.','.\\n'), \\n\")"
   ]
  },
  {
   "cell_type": "code",
   "execution_count": 60,
   "id": "ac9d0457",
   "metadata": {},
   "outputs": [
    {
     "name": "stdout",
     "output_type": "stream",
     "text": [
      "Sentiment: 0.936 \n",
      " Good mental health is vital to complete good quality work and even people without for mental health issues need support at times.\n",
      " Long term and short term burnout is common and I believe needs better acknowledgement and support.\n",
      " \n",
      "\n",
      "Sentiment: 0.923 \n",
      " The distinction between suffering a mental illness and being considerate of ones mental health is very important and increasingly misrepresented to the great determent of the care and understanding offered to those with a neurologically situated illness.\n",
      " Like many well meaning efforts in the arena of mental health this servery doesn't recognize that the support and care of others including partners and children can be an imposition to work and employment.\n",
      " \n",
      "\n",
      "Sentiment: 0.9314 \n",
      " I answered using your “disordered = doctor diagnosed” so I said no to some questions.\n",
      " But I surely have “mental health issues” and would have answered yes to those questions.\n",
      " But you only asked about diagnoses disorders.\n",
      " You are leaving out a big pool of folks like me who just want go see the doctor or mental help professional.\n",
      " \n",
      "\n"
     ]
    }
   ],
   "source": [
    "for index, row in open_talk.iterrows():\n",
    "    if index in [17, 1509, 1257]:\n",
    "        print(f\"Sentiment: {row['Sentiment']}\", \"\\n\", row['Answer'].replace('.','.\\n'), \"\\n\")"
   ]
  }
 ],
 "metadata": {
  "kernelspec": {
   "display_name": "Python 3 (ipykernel)",
   "language": "python",
   "name": "python3"
  },
  "language_info": {
   "codemirror_mode": {
    "name": "ipython",
    "version": 3
   },
   "file_extension": ".py",
   "mimetype": "text/x-python",
   "name": "python",
   "nbconvert_exporter": "python",
   "pygments_lexer": "ipython3",
   "version": "3.9.13"
  },
  "toc": {
   "base_numbering": 1,
   "nav_menu": {
    "height": "452.983px",
    "width": "342.342px"
   },
   "number_sections": true,
   "sideBar": true,
   "skip_h1_title": false,
   "title_cell": "Table of Contents",
   "title_sidebar": "Contents",
   "toc_cell": false,
   "toc_position": {
    "height": "585.27px",
    "left": "28px",
    "top": "267.781px",
    "width": "243.168px"
   },
   "toc_section_display": true,
   "toc_window_display": false
  }
 },
 "nbformat": 4,
 "nbformat_minor": 5
}
